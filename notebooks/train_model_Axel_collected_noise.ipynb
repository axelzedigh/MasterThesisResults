{
 "cells": [
  {
   "cell_type": "code",
   "execution_count": 35,
   "metadata": {},
   "outputs": [],
   "source": [
    "import os\n",
    "import os.path\n",
    "import sys\n",
    "import h5py\n",
    "import numpy as np\n",
    "import scipy.io as scio\n",
    "from keras.models import Model, Sequential\n",
    "from keras.layers import *\n",
    "from keras.engine.topology import get_source_inputs\n",
    "from keras.utils import layer_utils\n",
    "from keras.utils.data_utils import get_file\n",
    "from keras import backend as K\n",
    "from keras.applications.imagenet_utils import decode_predictions\n",
    "from keras.applications.imagenet_utils import preprocess_input\n",
    "from keras.optimizers import RMSprop, Adam\n",
    "from keras.callbacks import ModelCheckpoint\n",
    "from keras.utils import to_categorical\n",
    "from keras.models import load_model\n",
    "from sklearn.preprocessing import PolynomialFeatures\n",
    "from sklearn.preprocessing import normalize\n",
    "import matplotlib.pyplot as plt\n",
    "from tqdm import tqdm"
   ]
  },
  {
   "cell_type": "markdown",
   "metadata": {},
   "source": [
    "# AES Sbox/Inverse Sbox tables"
   ]
  },
  {
   "cell_type": "code",
   "execution_count": 36,
   "metadata": {},
   "outputs": [],
   "source": [
    "#AES SBox lookup table \n",
    "AES_Sbox = np.array([\n",
    "    0x63, 0x7C, 0x77, 0x7B, 0xF2, 0x6B, 0x6F, 0xC5, 0x30, 0x01, 0x67, 0x2B, 0xFE, 0xD7, 0xAB, 0x76,\n",
    "    0xCA, 0x82, 0xC9, 0x7D, 0xFA, 0x59, 0x47, 0xF0, 0xAD, 0xD4, 0xA2, 0xAF, 0x9C, 0xA4, 0x72, 0xC0,\n",
    "    0xB7, 0xFD, 0x93, 0x26, 0x36, 0x3F, 0xF7, 0xCC, 0x34, 0xA5, 0xE5, 0xF1, 0x71, 0xD8, 0x31, 0x15,\n",
    "    0x04, 0xC7, 0x23, 0xC3, 0x18, 0x96, 0x05, 0x9A, 0x07, 0x12, 0x80, 0xE2, 0xEB, 0x27, 0xB2, 0x75,\n",
    "    0x09, 0x83, 0x2C, 0x1A, 0x1B, 0x6E, 0x5A, 0xA0, 0x52, 0x3B, 0xD6, 0xB3, 0x29, 0xE3, 0x2F, 0x84,\n",
    "    0x53, 0xD1, 0x00, 0xED, 0x20, 0xFC, 0xB1, 0x5B, 0x6A, 0xCB, 0xBE, 0x39, 0x4A, 0x4C, 0x58, 0xCF,\n",
    "    0xD0, 0xEF, 0xAA, 0xFB, 0x43, 0x4D, 0x33, 0x85, 0x45, 0xF9, 0x02, 0x7F, 0x50, 0x3C, 0x9F, 0xA8,\n",
    "    0x51, 0xA3, 0x40, 0x8F, 0x92, 0x9D, 0x38, 0xF5, 0xBC, 0xB6, 0xDA, 0x21, 0x10, 0xFF, 0xF3, 0xD2,\n",
    "    0xCD, 0x0C, 0x13, 0xEC, 0x5F, 0x97, 0x44, 0x17, 0xC4, 0xA7, 0x7E, 0x3D, 0x64, 0x5D, 0x19, 0x73,\n",
    "    0x60, 0x81, 0x4F, 0xDC, 0x22, 0x2A, 0x90, 0x88, 0x46, 0xEE, 0xB8, 0x14, 0xDE, 0x5E, 0x0B, 0xDB,\n",
    "    0xE0, 0x32, 0x3A, 0x0A, 0x49, 0x06, 0x24, 0x5C, 0xC2, 0xD3, 0xAC, 0x62, 0x91, 0x95, 0xE4, 0x79,\n",
    "    0xE7, 0xC8, 0x37, 0x6D, 0x8D, 0xD5, 0x4E, 0xA9, 0x6C, 0x56, 0xF4, 0xEA, 0x65, 0x7A, 0xAE, 0x08,\n",
    "    0xBA, 0x78, 0x25, 0x2E, 0x1C, 0xA6, 0xB4, 0xC6, 0xE8, 0xDD, 0x74, 0x1F, 0x4B, 0xBD, 0x8B, 0x8A,\n",
    "    0x70, 0x3E, 0xB5, 0x66, 0x48, 0x03, 0xF6, 0x0E, 0x61, 0x35, 0x57, 0xB9, 0x86, 0xC1, 0x1D, 0x9E,\n",
    "    0xE1, 0xF8, 0x98, 0x11, 0x69, 0xD9, 0x8E, 0x94, 0x9B, 0x1E, 0x87, 0xE9, 0xCE, 0x55, 0x28, 0xDF,\n",
    "    0x8C, 0xA1, 0x89, 0x0D, 0xBF, 0xE6, 0x42, 0x68, 0x41, 0x99, 0x2D, 0x0F, 0xB0, 0x54, 0xBB, 0x16\n",
    "])\n",
    "\n",
    "#AES Inverse SBox lookup table\n",
    "Inv_SBox = np.array([\n",
    "    0x52, 0x09, 0x6a, 0xd5, 0x30, 0x36, 0xa5, 0x38, 0xbf, 0x40, 0xa3,\n",
    "    0x9e, 0x81, 0xf3, 0xd7, 0xfb , 0x7c, 0xe3, 0x39, 0x82, 0x9b, 0x2f,\n",
    "    0xff, 0x87, 0x34, 0x8e, 0x43, 0x44, 0xc4, 0xde, 0xe9, 0xcb , 0x54,\n",
    "    0x7b, 0x94, 0x32, 0xa6, 0xc2, 0x23, 0x3d, 0xee, 0x4c, 0x95, 0x0b,\n",
    "    0x42, 0xfa, 0xc3, 0x4e , 0x08, 0x2e, 0xa1, 0x66, 0x28, 0xd9, 0x24,\n",
    "    0xb2, 0x76, 0x5b, 0xa2, 0x49, 0x6d, 0x8b, 0xd1, 0x25 , 0x72, 0xf8,\n",
    "    0xf6, 0x64, 0x86, 0x68, 0x98, 0x16, 0xd4, 0xa4, 0x5c, 0xcc, 0x5d,\n",
    "    0x65, 0xb6, 0x92 , 0x6c, 0x70, 0x48, 0x50, 0xfd, 0xed, 0xb9, 0xda,\n",
    "    0x5e, 0x15, 0x46, 0x57, 0xa7, 0x8d, 0x9d, 0x84 , 0x90, 0xd8, 0xab,\n",
    "    0x00, 0x8c, 0xbc, 0xd3, 0x0a, 0xf7, 0xe4, 0x58, 0x05, 0xb8, 0xb3,\n",
    "    0x45, 0x06 , 0xd0, 0x2c, 0x1e, 0x8f, 0xca, 0x3f, 0x0f, 0x02, 0xc1,\n",
    "    0xaf, 0xbd, 0x03, 0x01, 0x13, 0x8a, 0x6b , 0x3a, 0x91, 0x11, 0x41,\n",
    "    0x4f, 0x67, 0xdc, 0xea, 0x97, 0xf2, 0xcf, 0xce, 0xf0, 0xb4, 0xe6,\n",
    "    0x73 , 0x96, 0xac, 0x74, 0x22, 0xe7, 0xad, 0x35, 0x85, 0xe2, 0xf9,\n",
    "    0x37, 0xe8, 0x1c, 0x75, 0xdf, 0x6e , 0x47, 0xf1, 0x1a, 0x71, 0x1d,\n",
    "    0x29, 0xc5, 0x89, 0x6f, 0xb7, 0x62, 0x0e, 0xaa, 0x18, 0xbe, 0x1b ,\n",
    "    0xfc, 0x56, 0x3e, 0x4b, 0xc6, 0xd2, 0x79, 0x20, 0x9a, 0xdb, 0xc0,\n",
    "    0xfe, 0x78, 0xcd, 0x5a, 0xf4 , 0x1f, 0xdd, 0xa8, 0x33, 0x88, 0x07,\n",
    "    0xc7, 0x31, 0xb1, 0x12, 0x10, 0x59, 0x27, 0x80, 0xec, 0x5f , 0x60,\n",
    "    0x51, 0x7f, 0xa9, 0x19, 0xb5, 0x4a, 0x0d, 0x2d, 0xe5, 0x7a, 0x9f,\n",
    "    0x93, 0xc9, 0x9c, 0xef , 0xa0, 0xe0, 0x3b, 0x4d, 0xae, 0x2a, 0xf5,\n",
    "    0xb0, 0xc8, 0xeb, 0xbb, 0x3c, 0x83, 0x53, 0x99, 0x61 , 0x17, 0x2b,\n",
    "    0x04, 0x7e, 0xba, 0x77, 0xd6, 0x26, 0xe1, 0x69, 0x14, 0x63, 0x55,\n",
    "    0x21, 0x0c, 0x7d\n",
    "])"
   ]
  },
  {
   "cell_type": "code",
   "execution_count": 37,
   "metadata": {},
   "outputs": [],
   "source": [
    "def check_file_exists(file_path):\n",
    "    file_path = os.path.normpath(file_path)\n",
    "    if os.path.exists(file_path) == False:\n",
    "        print(\"Error: provided file path '%s' does not exist!\" % file_path)\n",
    "        sys.exit(-1)\n",
    "    return"
   ]
  },
  {
   "cell_type": "code",
   "execution_count": 38,
   "metadata": {},
   "outputs": [],
   "source": [
    "def mean_squared_error(y_true, y_pred):\n",
    "    return K.mean(K.square(y_pred - y_true), axis=-1)"
   ]
  },
  {
   "cell_type": "markdown",
   "metadata": {},
   "source": [
    "# CNN - 110"
   ]
  },
  {
   "cell_type": "code",
   "execution_count": 39,
   "metadata": {},
   "outputs": [],
   "source": [
    "### CNN Best model \n",
    "def cnn_best(classes=256):  \n",
    "\t# 70-100 epoch ,128 batch_size, 110 points\n",
    "    model = Sequential()\n",
    "    #model.add(GaussianNoise(0.04, input_shape=(110,1)))\n",
    "    model.add(Conv1D(input_shape=(110, 1),filters=4, kernel_size=3, activation='relu', padding='same'))\t\n",
    "    model.add(AveragePooling1D(pool_size=2,strides=1))\n",
    "    \n",
    "    model.add(Conv1D(filters=8, kernel_size=3, activation='relu', padding='same'))\t\n",
    "    model.add(AveragePooling1D(pool_size=2,strides=1)) \n",
    "\n",
    "    model.add(Conv1D(filters=16, kernel_size=3, activation='relu', padding='same'))\t\n",
    "    model.add(AveragePooling1D(pool_size=2,strides=1))\n",
    "    \n",
    "    model.add(Conv1D(filters=32, kernel_size=3, activation='relu', padding='same'))\t\n",
    "    model.add(AveragePooling1D(pool_size=2,strides=1)) \n",
    "\t\n",
    "    model.add(Flatten())\n",
    "\t\n",
    "    #model.add(Dropout(0.2))\n",
    "\t\n",
    "    model.add(Dense(units = 200, activation = 'relu'))\n",
    "    model.add(Dense(units = 200, activation = 'relu'))\n",
    "\t\n",
    "    model.add(Dense(units = classes, activation = 'softmax',name='predictions'))\n",
    "    optimizer = RMSprop(lr=0.00005) #0.0001\n",
    "\t\n",
    "    model.compile(loss='categorical_crossentropy', optimizer=optimizer, metrics=['accuracy'])\n",
    "\t\n",
    "    return model"
   ]
  },
  {
   "cell_type": "markdown",
   "metadata": {},
   "source": [
    "# Train model"
   ]
  },
  {
   "cell_type": "code",
   "execution_count": 40,
   "metadata": {},
   "outputs": [],
   "source": [
    "def train_model(X_profiling, Y_profiling, model, save_file_name, epochs, batch_size, model_type):\n",
    "    check_file_exists(os.path.dirname(save_file_name))\n",
    "    \n",
    "    # Save model every epoch\n",
    "    save_model = ModelCheckpoint(save_file_name)\n",
    "    callbacks = [save_model]\n",
    "    \n",
    "    # Get the input layer shape\n",
    "    input_layer_shape = model.get_layer(index=0).input_shape\n",
    "    \n",
    "    # Sanity check\n",
    "    if input_layer_shape[1] != len(X_profiling[0]):\n",
    "        print(\"Error: model input shape %d instead of %d is not expected ...\" % (\n",
    "            input_layer_shape[1], len(X_profiling[0])))\n",
    "        sys.exit(-1)\n",
    "    elif len(input_layer_shape) == 3:\n",
    "        # This is a CNN: expand the dimensions\n",
    "        Reshaped_X_profiling = X_profiling.reshape((X_profiling.shape[0], X_profiling.shape[1], 1))\n",
    "        Reshaped_Y_profiling = to_categorical(Y_profiling, num_classes=256)\n",
    "        if model_type ==6:\n",
    "            Reshaped_Y_profiling = Y_profiling.reshape((Y_profiling.shape[0], Y_profiling.shape[1], 1))\n",
    "    else:\n",
    "        print(\"Error: model input shape length %d is not expected ...\" % len(input_layer_shape))\n",
    "        sys.exit(-1)\n",
    "\n",
    "    history = model.fit(x=Reshaped_X_profiling, y=Reshaped_Y_profiling, batch_size=batch_size, verbose=1, epochs=epochs, callbacks=callbacks, validation_split=0.1)\n",
    "    return history"
   ]
  },
  {
   "cell_type": "markdown",
   "metadata": {},
   "source": [
    "# Main - No noise"
   ]
  },
  {
   "cell_type": "code",
   "execution_count": 41,
   "metadata": {},
   "outputs": [],
   "source": [
    "MODEL_TYPE = 2 #CNN\n",
    "INTEREST_BYTE = 0\n",
    "MODEL_FOLDER = \"cnn_110_maf_n3/\"\n",
    "TRAINING_MODEL = MODEL_FOLDER + 'cnn_model-{epoch:01d}.h5'\n",
    "USER = os.getenv(\"USER\")\n",
    "traces = np.load('data/nor_traces_maxmin.npy')\n",
    "#traces = traces[:,[i for i in range(204,314)]]"
   ]
  },
  {
   "cell_type": "code",
   "execution_count": 8,
   "metadata": {},
   "outputs": [],
   "source": [
    "#traces_fixed = traces.copy()\n",
    "#noise_traces_flattened_fixed = traces_fixed.flatten()\n",
    "\n",
    "noise_data = np.load(f\"/Users/{USER}/Documents/MASTER-THESIS/datasets/last_round_aes/experiment_axel/test_1/traces.npy\")\n",
    "index_1 = int(512400 / 400)\n",
    "index_2 = int(1824800 / 400)\n",
    "noise_data[index_1] = noise_data[index_1 -20]\n",
    "noise_data[index_2] = noise_data[index_2 -20]\n",
    "noise_data = noise_data[:,[i for i in range(204,314)]]\n",
    "noise_data_flatten = noise_data.flatten()\n",
    "scale = 75\n",
    "translation = 0\n",
    "noise_data = (noise_data - translation) * scale\n",
    "\n",
    "nr = int(len(traces) / len(noise_data))\n",
    "noise_data_2 = np.tile(noise_data, (nr,1))"
   ]
  },
  {
   "cell_type": "code",
   "execution_count": 40,
   "metadata": {},
   "outputs": [],
   "source": [
    "# Add noise traces to traces\n",
    "noise_traces = traces.copy()\n",
    "\n",
    "for i in range(len(traces)):\n",
    "    noise_traces[i] = noise_data_2[i] + noise_traces[i]"
   ]
  },
  {
   "cell_type": "code",
   "execution_count": 49,
   "metadata": {},
   "outputs": [],
   "source": [
    "# Add modelled noise to training traces\n",
    "# Rayleigh\n",
    "\n",
    "for i in range(len(traces)):\n",
    "    #noise = np.random.rayleigh(0.0138*2,110)\n",
    "    noise = np.random.normal(0,0.05,110)\n",
    "    noise_traces[i] = noise_traces[i] + noise"
   ]
  },
  {
   "cell_type": "code",
   "execution_count": 60,
   "metadata": {},
   "outputs": [
    {
     "name": "stderr",
     "output_type": "stream",
     "text": [
      "100%|█████████████████████████████████████████████| 200000/200000 [00:16<00:00, 11959.76it/s]\n"
     ]
    }
   ],
   "source": [
    "# MAF filter training data\n",
    "\n",
    "def moving_avg_trace(trace, n):\n",
    "    #trace = trace.copy()\n",
    "    cumsum = np.cumsum(np.insert(trace, 0, 0)) \n",
    "    return (cumsum[n:] - cumsum[:-n]) / float(n)\n",
    "\n",
    "#filtered_traces = traces.copy()\n",
    "filtered_traces = np.empty_like(traces)\n",
    "\n",
    "for i in tqdm(range(len(traces))):\n",
    "    #np.append(filtered_traces, moving_avg_trace(traces[i], 3))\n",
    "    filtered_traces[i] = np.pad(moving_avg_trace(traces[i], 3), (0,2),'constant')\n",
    "filtered_traces = filtered_traces[:,[i for i in range(203,313)]]"
   ]
  },
  {
   "cell_type": "code",
   "execution_count": 51,
   "metadata": {},
   "outputs": [
    {
     "name": "stdout",
     "output_type": "stream",
     "text": [
      "22000000\n"
     ]
    }
   ],
   "source": [
    "print(filtered_traces.size)"
   ]
  },
  {
   "cell_type": "markdown",
   "metadata": {},
   "source": [
    "# Plot"
   ]
  },
  {
   "cell_type": "code",
   "execution_count": 61,
   "metadata": {},
   "outputs": [
    {
     "data": {
      "image/png": "[encoded data removed]",
      "text/plain": [
       "<Figure size 432x288 with 1 Axes>"
      ]
     },
     "metadata": {
      "needs_background": "light"
     },
     "output_type": "display_data"
    }
   ],
   "source": [
    "%matplotlib inline\n",
    "\n",
    "gauss_noise = np.random.normal(0,0.02,110)\n",
    "rayleigh_noise = np.random.rayleigh(0.02, 110)\n",
    "\n",
    "#plt.plot(traces[0])\n",
    "plt.plot(filtered_traces[0])\n",
    "plt.plot(filtered_traces[2])\n",
    "#plt.plot(noise_traces[2])\n",
    "#plt.plot(noise_data_2[0])\n",
    "#plt.plot(gauss_noise)\n",
    "#plt.plot(noise)\n",
    "#plt.axvline(x=204)\n",
    "#plt.axvline(x=314)\n",
    "#plt.ylabel('accuracy')\n",
    "#plt.xlabel('epoch')\n",
    "#plt.grid(True)\n",
    "plt.show()"
   ]
  },
  {
   "cell_type": "code",
   "execution_count": null,
   "metadata": {},
   "outputs": [],
   "source": [
    "plt.psd(filtered_traces[0])\n",
    "plt.show()"
   ]
  },
  {
   "cell_type": "code",
   "execution_count": 52,
   "metadata": {},
   "outputs": [
    {
     "data": {
      "image/png": "[encoded data removed]",
      "text/plain": [
       "<Figure size 432x288 with 1 Axes>"
      ]
     },
     "metadata": {
      "needs_background": "light"
     },
     "output_type": "display_data"
    }
   ],
   "source": [
    "plt.plot(noise_data_flatten)\n",
    "plt.show()"
   ]
  },
  {
   "cell_type": "code",
   "execution_count": 62,
   "metadata": {},
   "outputs": [
    {
     "name": "stdout",
     "output_type": "stream",
     "text": [
      "Model: \"sequential\"\n",
      "_________________________________________________________________\n",
      "Layer (type)                 Output Shape              Param #   \n",
      "=================================================================\n",
      "conv1d (Conv1D)              (None, 110, 4)            16        \n",
      "_________________________________________________________________\n",
      "average_pooling1d (AveragePo (None, 109, 4)            0         \n",
      "_________________________________________________________________\n",
      "conv1d_1 (Conv1D)            (None, 109, 8)            104       \n",
      "_________________________________________________________________\n",
      "average_pooling1d_1 (Average (None, 108, 8)            0         \n",
      "_________________________________________________________________\n",
      "conv1d_2 (Conv1D)            (None, 108, 16)           400       \n",
      "_________________________________________________________________\n",
      "average_pooling1d_2 (Average (None, 107, 16)           0         \n",
      "_________________________________________________________________\n",
      "conv1d_3 (Conv1D)            (None, 107, 32)           1568      \n",
      "_________________________________________________________________\n",
      "average_pooling1d_3 (Average (None, 106, 32)           0         \n",
      "_________________________________________________________________\n",
      "flatten (Flatten)            (None, 3392)              0         \n",
      "_________________________________________________________________\n",
      "dense (Dense)                (None, 200)               678600    \n",
      "_________________________________________________________________\n",
      "dense_1 (Dense)              (None, 200)               40200     \n",
      "_________________________________________________________________\n",
      "predictions (Dense)          (None, 256)               51456     \n",
      "=================================================================\n",
      "Total params: 772,344\n",
      "Trainable params: 772,344\n",
      "Non-trainable params: 0\n",
      "_________________________________________________________________\n",
      "None\n"
     ]
    },
    {
     "name": "stderr",
     "output_type": "stream",
     "text": [
      "2021-11-05 00:23:03.721444: I tensorflow/core/platform/cpu_feature_guard.cc:142] This TensorFlow binary is optimized with oneAPI Deep Neural Network Library (oneDNN) to use the following CPU instructions in performance-critical operations:  SSE4.1 SSE4.2 AVX\n",
      "To enable them in other operations, rebuild TensorFlow with the appropriate compiler flags.\n"
     ]
    }
   ],
   "source": [
    "ct = np.load('data/ct.npy')\n",
    "key=np.load('data/lastroundkey.npy')\n",
    "key= key.astype(int)\n",
    "#print(key[:,interest_byte].shape)\n",
    "lastround_sboxout= np.bitwise_xor(ct[:,INTEREST_BYTE],key[:,INTEREST_BYTE])\n",
    "#lastround_input= Inv_SBox[lastround_sboxout]  \n",
    "labels=lastround_sboxout\n",
    "\n",
    "# CNN model\n",
    "model = cnn_best()\n",
    "print(model.summary())\n",
    "\n",
    "EPOCHS = 100\n",
    "BATCH_SIZE = 256"
   ]
  },
  {
   "cell_type": "markdown",
   "metadata": {},
   "source": [
    "# Train"
   ]
  },
  {
   "cell_type": "code",
   "execution_count": 63,
   "metadata": {},
   "outputs": [
    {
     "name": "stderr",
     "output_type": "stream",
     "text": [
      "2021-11-05 00:23:15.280254: I tensorflow/compiler/mlir/mlir_graph_optimization_pass.cc:116] None of the MLIR optimization passes are enabled (registered 2)\n"
     ]
    },
    {
     "name": "stdout",
     "output_type": "stream",
     "text": [
      "Epoch 1/100\n",
      "704/704 [==============================] - 35s 48ms/step - loss: 5.5452 - accuracy: 0.0040 - val_loss: 5.5451 - val_accuracy: 0.0042\n",
      "Epoch 2/100\n",
      "704/704 [==============================] - 33s 47ms/step - loss: 5.5451 - accuracy: 0.0045 - val_loss: 5.5451 - val_accuracy: 0.0042\n",
      "Epoch 3/100\n",
      "704/704 [==============================] - 33s 47ms/step - loss: 5.5450 - accuracy: 0.0043 - val_loss: 5.5451 - val_accuracy: 0.0042\n",
      "Epoch 4/100\n",
      "704/704 [==============================] - 33s 47ms/step - loss: 5.5449 - accuracy: 0.0041 - val_loss: 5.5450 - val_accuracy: 0.0042\n",
      "Epoch 5/100\n",
      "704/704 [==============================] - 33s 47ms/step - loss: 5.5449 - accuracy: 0.0041 - val_loss: 5.5451 - val_accuracy: 0.0042\n",
      "Epoch 6/100\n",
      "704/704 [==============================] - 33s 47ms/step - loss: 5.5449 - accuracy: 0.0042 - val_loss: 5.5451 - val_accuracy: 0.0042\n",
      "Epoch 7/100\n",
      "704/704 [==============================] - 33s 47ms/step - loss: 5.5447 - accuracy: 0.0044 - val_loss: 5.5451 - val_accuracy: 0.0042\n",
      "Epoch 8/100\n",
      "704/704 [==============================] - 33s 47ms/step - loss: 5.5447 - accuracy: 0.0043 - val_loss: 5.5451 - val_accuracy: 0.0042\n",
      "Epoch 9/100\n",
      "704/704 [==============================] - 33s 47ms/step - loss: 5.5447 - accuracy: 0.0043 - val_loss: 5.5451 - val_accuracy: 0.0042\n",
      "Epoch 10/100\n",
      "704/704 [==============================] - 33s 47ms/step - loss: 5.5447 - accuracy: 0.0041 - val_loss: 5.5451 - val_accuracy: 0.0042\n",
      "Epoch 11/100\n",
      "704/704 [==============================] - 33s 47ms/step - loss: 5.5446 - accuracy: 0.0042 - val_loss: 5.5451 - val_accuracy: 0.0042\n",
      "Epoch 12/100\n",
      "704/704 [==============================] - 33s 47ms/step - loss: 5.5446 - accuracy: 0.0043 - val_loss: 5.5451 - val_accuracy: 0.0042\n",
      "Epoch 13/100\n",
      "704/704 [==============================] - 33s 47ms/step - loss: 5.5446 - accuracy: 0.0045 - val_loss: 5.5451 - val_accuracy: 0.0042\n",
      "Epoch 14/100\n",
      "704/704 [==============================] - 33s 47ms/step - loss: 5.5446 - accuracy: 0.0042 - val_loss: 5.5451 - val_accuracy: 0.0042\n",
      "Epoch 15/100\n",
      "704/704 [==============================] - 33s 47ms/step - loss: 5.5446 - accuracy: 0.0042 - val_loss: 5.5451 - val_accuracy: 0.0042\n",
      "Epoch 16/100\n",
      "704/704 [==============================] - 33s 47ms/step - loss: 5.5446 - accuracy: 0.0042 - val_loss: 5.5451 - val_accuracy: 0.0042\n",
      "Epoch 17/100\n",
      "704/704 [==============================] - 33s 47ms/step - loss: 5.5448 - accuracy: 0.0044 - val_loss: 5.5452 - val_accuracy: 0.0042\n",
      "Epoch 18/100\n",
      "704/704 [==============================] - 33s 47ms/step - loss: 5.5446 - accuracy: 0.0042 - val_loss: 5.5451 - val_accuracy: 0.0042\n",
      "Epoch 19/100\n",
      "704/704 [==============================] - 33s 47ms/step - loss: 5.5446 - accuracy: 0.0042 - val_loss: 5.5451 - val_accuracy: 0.0042\n",
      "Epoch 20/100\n",
      "704/704 [==============================] - 33s 47ms/step - loss: 5.5445 - accuracy: 0.0043 - val_loss: 5.5451 - val_accuracy: 0.0042\n",
      "Epoch 21/100\n",
      "704/704 [==============================] - 33s 47ms/step - loss: 5.5446 - accuracy: 0.0042 - val_loss: 5.5451 - val_accuracy: 0.0042\n",
      "Epoch 22/100\n",
      "704/704 [==============================] - 33s 47ms/step - loss: 5.5446 - accuracy: 0.0042 - val_loss: 5.5451 - val_accuracy: 0.0042\n",
      "Epoch 23/100\n",
      "704/704 [==============================] - 33s 47ms/step - loss: 5.5446 - accuracy: 0.0043 - val_loss: 5.5451 - val_accuracy: 0.0042\n",
      "Epoch 24/100\n",
      "704/704 [==============================] - 33s 47ms/step - loss: 5.5446 - accuracy: 0.0044 - val_loss: 5.5451 - val_accuracy: 0.0042\n",
      "Epoch 25/100\n",
      "704/704 [==============================] - 33s 47ms/step - loss: 5.5446 - accuracy: 0.0044 - val_loss: 5.5451 - val_accuracy: 0.0042\n",
      "Epoch 26/100\n",
      "704/704 [==============================] - 33s 47ms/step - loss: 5.5445 - accuracy: 0.0044 - val_loss: 5.5451 - val_accuracy: 0.0042\n",
      "Epoch 27/100\n",
      "704/704 [==============================] - 33s 47ms/step - loss: 5.5446 - accuracy: 0.0045 - val_loss: 5.5451 - val_accuracy: 0.0042\n",
      "Epoch 28/100\n",
      "704/704 [==============================] - 33s 47ms/step - loss: 5.5446 - accuracy: 0.0044 - val_loss: 5.5451 - val_accuracy: 0.0042\n",
      "Epoch 29/100\n",
      "704/704 [==============================] - 33s 47ms/step - loss: 5.5446 - accuracy: 0.0044 - val_loss: 5.5451 - val_accuracy: 0.0042\n",
      "Epoch 30/100\n",
      "704/704 [==============================] - 33s 47ms/step - loss: 5.5445 - accuracy: 0.0043 - val_loss: 5.5451 - val_accuracy: 0.0042\n",
      "Epoch 31/100\n",
      "704/704 [==============================] - 33s 47ms/step - loss: 5.5445 - accuracy: 0.0042 - val_loss: 5.5450 - val_accuracy: 0.0042\n",
      "Epoch 32/100\n",
      "704/704 [==============================] - 33s 47ms/step - loss: 5.5444 - accuracy: 0.0042 - val_loss: 5.5449 - val_accuracy: 0.0046\n",
      "Epoch 33/100\n",
      "704/704 [==============================] - 33s 47ms/step - loss: 5.5443 - accuracy: 0.0045 - val_loss: 5.5448 - val_accuracy: 0.0042\n",
      "Epoch 34/100\n",
      "704/704 [==============================] - 33s 47ms/step - loss: 5.5443 - accuracy: 0.0046 - val_loss: 5.5445 - val_accuracy: 0.0042\n",
      "Epoch 35/100\n",
      "704/704 [==============================] - 33s 47ms/step - loss: 5.5438 - accuracy: 0.0044 - val_loss: 5.5437 - val_accuracy: 0.0056\n",
      "Epoch 36/100\n",
      "704/704 [==============================] - 33s 47ms/step - loss: 5.5429 - accuracy: 0.0048 - val_loss: 5.5418 - val_accuracy: 0.0047\n",
      "Epoch 37/100\n",
      "704/704 [==============================] - 33s 47ms/step - loss: 5.5401 - accuracy: 0.0051 - val_loss: 5.5358 - val_accuracy: 0.0097\n",
      "Epoch 38/100\n",
      "704/704 [==============================] - 33s 47ms/step - loss: 5.5328 - accuracy: 0.0083 - val_loss: 5.5206 - val_accuracy: 0.0100\n",
      "Epoch 39/100\n",
      "704/704 [==============================] - 33s 47ms/step - loss: 5.5146 - accuracy: 0.0092 - val_loss: 5.4865 - val_accuracy: 0.0087\n",
      "Epoch 40/100\n",
      "704/704 [==============================] - 33s 47ms/step - loss: 5.4746 - accuracy: 0.0102 - val_loss: 5.4197 - val_accuracy: 0.0115\n",
      "Epoch 41/100\n",
      "704/704 [==============================] - 33s 47ms/step - loss: 5.4068 - accuracy: 0.0104 - val_loss: 5.3247 - val_accuracy: 0.0119\n",
      "Epoch 42/100\n",
      "704/704 [==============================] - 33s 47ms/step - loss: 5.3159 - accuracy: 0.0105 - val_loss: 5.2274 - val_accuracy: 0.0114\n",
      "Epoch 43/100\n",
      "704/704 [==============================] - 33s 47ms/step - loss: 5.2189 - accuracy: 0.0113 - val_loss: 5.1448 - val_accuracy: 0.0110\n",
      "Epoch 44/100\n",
      "704/704 [==============================] - 33s 47ms/step - loss: 5.1440 - accuracy: 0.0115 - val_loss: 5.1727 - val_accuracy: 0.0111\n",
      "Epoch 45/100\n",
      "704/704 [==============================] - 33s 47ms/step - loss: 5.0928 - accuracy: 0.0119 - val_loss: 5.0580 - val_accuracy: 0.0111\n",
      "Epoch 46/100\n",
      "704/704 [==============================] - 33s 47ms/step - loss: 5.0552 - accuracy: 0.0123 - val_loss: 4.9730 - val_accuracy: 0.0136\n",
      "Epoch 47/100\n",
      "704/704 [==============================] - 33s 46ms/step - loss: 5.0289 - accuracy: 0.0132 - val_loss: 4.9410 - val_accuracy: 0.0135\n",
      "Epoch 48/100\n",
      "704/704 [==============================] - 33s 47ms/step - loss: 5.0044 - accuracy: 0.0129 - val_loss: 4.9182 - val_accuracy: 0.0149\n",
      "Epoch 49/100\n",
      "704/704 [==============================] - 33s 48ms/step - loss: 4.9878 - accuracy: 0.0131 - val_loss: 5.0108 - val_accuracy: 0.0119\n",
      "Epoch 50/100\n",
      "704/704 [==============================] - 34s 48ms/step - loss: 4.9724 - accuracy: 0.0134 - val_loss: 4.8949 - val_accuracy: 0.0148\n",
      "Epoch 51/100\n",
      "704/704 [==============================] - 34s 48ms/step - loss: 4.9614 - accuracy: 0.0130 - val_loss: 4.9396 - val_accuracy: 0.0136\n",
      "Epoch 52/100\n",
      "704/704 [==============================] - 34s 48ms/step - loss: 4.9538 - accuracy: 0.0132 - val_loss: 4.8575 - val_accuracy: 0.0161\n",
      "Epoch 53/100\n",
      "704/704 [==============================] - 34s 48ms/step - loss: 4.9441 - accuracy: 0.0132 - val_loss: 4.9455 - val_accuracy: 0.0128\n",
      "Epoch 54/100\n",
      "704/704 [==============================] - 34s 48ms/step - loss: 4.9369 - accuracy: 0.0129 - val_loss: 4.8757 - val_accuracy: 0.0140\n",
      "Epoch 55/100\n",
      "704/704 [==============================] - 34s 48ms/step - loss: 4.9292 - accuracy: 0.0133 - val_loss: 4.8654 - val_accuracy: 0.0154\n",
      "Epoch 56/100\n",
      "704/704 [==============================] - 34s 48ms/step - loss: 4.9252 - accuracy: 0.0135 - val_loss: 4.8735 - val_accuracy: 0.0154\n",
      "Epoch 57/100\n",
      "704/704 [==============================] - 34s 48ms/step - loss: 4.9201 - accuracy: 0.0130 - val_loss: 4.8470 - val_accuracy: 0.0150\n",
      "Epoch 58/100\n",
      "704/704 [==============================] - 34s 48ms/step - loss: 4.9162 - accuracy: 0.0141 - val_loss: 4.8119 - val_accuracy: 0.0167\n",
      "Epoch 59/100\n",
      "704/704 [==============================] - 34s 48ms/step - loss: 4.9132 - accuracy: 0.0134 - val_loss: 4.9106 - val_accuracy: 0.0138\n",
      "Epoch 60/100\n",
      "704/704 [==============================] - 34s 48ms/step - loss: 4.9087 - accuracy: 0.0133 - val_loss: 4.7997 - val_accuracy: 0.0169\n",
      "Epoch 61/100\n",
      "704/704 [==============================] - 34s 48ms/step - loss: 4.8990 - accuracy: 0.0141 - val_loss: 4.8422 - val_accuracy: 0.0142\n",
      "Epoch 62/100\n",
      "704/704 [==============================] - 34s 48ms/step - loss: 4.9006 - accuracy: 0.0141 - val_loss: 4.8003 - val_accuracy: 0.0155\n",
      "Epoch 63/100\n",
      "704/704 [==============================] - 34s 48ms/step - loss: 4.8976 - accuracy: 0.0141 - val_loss: 4.8149 - val_accuracy: 0.0148\n",
      "Epoch 64/100\n",
      "704/704 [==============================] - 34s 48ms/step - loss: 4.8914 - accuracy: 0.0138 - val_loss: 4.8166 - val_accuracy: 0.0162\n",
      "Epoch 65/100\n",
      "704/704 [==============================] - 34s 48ms/step - loss: 4.8948 - accuracy: 0.0139 - val_loss: 4.8416 - val_accuracy: 0.0132\n",
      "Epoch 66/100\n",
      "704/704 [==============================] - 34s 48ms/step - loss: 4.8862 - accuracy: 0.0141 - val_loss: 4.8719 - val_accuracy: 0.0138\n",
      "Epoch 67/100\n",
      "704/704 [==============================] - 33s 48ms/step - loss: 4.8853 - accuracy: 0.0144 - val_loss: 4.8471 - val_accuracy: 0.0159\n",
      "Epoch 68/100\n",
      "704/704 [==============================] - 33s 47ms/step - loss: 4.8863 - accuracy: 0.0145 - val_loss: 4.8262 - val_accuracy: 0.0140\n",
      "Epoch 69/100\n",
      "704/704 [==============================] - 33s 47ms/step - loss: 4.8828 - accuracy: 0.0143 - val_loss: 5.0692 - val_accuracy: 0.0105\n",
      "Epoch 70/100\n",
      "704/704 [==============================] - 33s 47ms/step - loss: 4.8834 - accuracy: 0.0141 - val_loss: 4.8392 - val_accuracy: 0.0135\n",
      "Epoch 71/100\n",
      "704/704 [==============================] - 33s 47ms/step - loss: 4.8808 - accuracy: 0.0138 - val_loss: 4.8055 - val_accuracy: 0.0152\n",
      "Epoch 72/100\n",
      "704/704 [==============================] - 33s 47ms/step - loss: 4.8763 - accuracy: 0.0146 - val_loss: 4.8941 - val_accuracy: 0.0140\n",
      "Epoch 73/100\n",
      "704/704 [==============================] - 33s 47ms/step - loss: 4.8759 - accuracy: 0.0144 - val_loss: 4.7902 - val_accuracy: 0.0161\n",
      "Epoch 74/100\n",
      "704/704 [==============================] - 33s 47ms/step - loss: 4.8713 - accuracy: 0.0143 - val_loss: 4.8610 - val_accuracy: 0.0150\n",
      "Epoch 75/100\n",
      "704/704 [==============================] - 33s 47ms/step - loss: 4.8731 - accuracy: 0.0145 - val_loss: 4.8033 - val_accuracy: 0.0158\n",
      "Epoch 76/100\n",
      "704/704 [==============================] - 33s 47ms/step - loss: 4.8730 - accuracy: 0.0139 - val_loss: 5.0791 - val_accuracy: 0.0115\n",
      "Epoch 77/100\n",
      "704/704 [==============================] - 33s 47ms/step - loss: 4.8712 - accuracy: 0.0149 - val_loss: 5.2117 - val_accuracy: 0.0101\n",
      "Epoch 78/100\n",
      "704/704 [==============================] - 33s 47ms/step - loss: 4.8686 - accuracy: 0.0139 - val_loss: 4.8401 - val_accuracy: 0.0148\n",
      "Epoch 79/100\n",
      "704/704 [==============================] - 33s 47ms/step - loss: 4.8692 - accuracy: 0.0145 - val_loss: 4.7599 - val_accuracy: 0.0167\n",
      "Epoch 80/100\n",
      "704/704 [==============================] - 33s 47ms/step - loss: 4.8701 - accuracy: 0.0147 - val_loss: 4.7872 - val_accuracy: 0.0167\n",
      "Epoch 81/100\n",
      "704/704 [==============================] - 34s 48ms/step - loss: 4.8624 - accuracy: 0.0142 - val_loss: 4.9438 - val_accuracy: 0.0128\n",
      "Epoch 82/100\n",
      "704/704 [==============================] - 34s 48ms/step - loss: 4.8645 - accuracy: 0.0155 - val_loss: 4.9143 - val_accuracy: 0.0127\n",
      "Epoch 83/100\n",
      "704/704 [==============================] - 34s 48ms/step - loss: 4.8632 - accuracy: 0.0148 - val_loss: 4.7974 - val_accuracy: 0.0170\n",
      "Epoch 84/100\n",
      "704/704 [==============================] - 34s 48ms/step - loss: 4.8610 - accuracy: 0.0138 - val_loss: 4.7508 - val_accuracy: 0.0170\n",
      "Epoch 85/100\n",
      "704/704 [==============================] - 34s 48ms/step - loss: 4.8638 - accuracy: 0.0143 - val_loss: 4.7499 - val_accuracy: 0.0163\n",
      "Epoch 86/100\n",
      "704/704 [==============================] - 34s 48ms/step - loss: 4.8581 - accuracy: 0.0143 - val_loss: 4.8128 - val_accuracy: 0.0159\n",
      "Epoch 87/100\n",
      "704/704 [==============================] - 34s 48ms/step - loss: 4.8576 - accuracy: 0.0143 - val_loss: 4.8164 - val_accuracy: 0.0146\n",
      "Epoch 88/100\n",
      "704/704 [==============================] - 34s 48ms/step - loss: 4.8607 - accuracy: 0.0142 - val_loss: 4.7628 - val_accuracy: 0.0159\n",
      "Epoch 89/100\n",
      "704/704 [==============================] - 34s 48ms/step - loss: 4.8555 - accuracy: 0.0144 - val_loss: 4.7575 - val_accuracy: 0.0158\n",
      "Epoch 90/100\n",
      "704/704 [==============================] - 34s 49ms/step - loss: 4.8586 - accuracy: 0.0146 - val_loss: 4.7483 - val_accuracy: 0.0167\n",
      "Epoch 91/100\n",
      "704/704 [==============================] - 34s 48ms/step - loss: 4.8547 - accuracy: 0.0140 - val_loss: 4.9701 - val_accuracy: 0.0123\n",
      "Epoch 92/100\n",
      "704/704 [==============================] - 34s 48ms/step - loss: 4.8556 - accuracy: 0.0156 - val_loss: 4.7720 - val_accuracy: 0.0154\n",
      "Epoch 93/100\n",
      "704/704 [==============================] - 34s 48ms/step - loss: 4.8526 - accuracy: 0.0150 - val_loss: 4.8549 - val_accuracy: 0.0143\n",
      "Epoch 94/100\n",
      "704/704 [==============================] - 34s 48ms/step - loss: 4.8514 - accuracy: 0.0143 - val_loss: 4.7430 - val_accuracy: 0.0159\n",
      "Epoch 95/100\n",
      "704/704 [==============================] - 34s 48ms/step - loss: 4.8520 - accuracy: 0.0151 - val_loss: 4.7819 - val_accuracy: 0.0168\n",
      "Epoch 96/100\n",
      "704/704 [==============================] - 34s 48ms/step - loss: 4.8531 - accuracy: 0.0150 - val_loss: 4.9878 - val_accuracy: 0.0122\n",
      "Epoch 97/100\n",
      "704/704 [==============================] - 34s 48ms/step - loss: 4.8484 - accuracy: 0.0143 - val_loss: 4.7437 - val_accuracy: 0.0159\n",
      "Epoch 98/100\n",
      "704/704 [==============================] - 34s 48ms/step - loss: 4.8491 - accuracy: 0.0151 - val_loss: 4.8071 - val_accuracy: 0.0159\n",
      "Epoch 99/100\n",
      "704/704 [==============================] - 34s 48ms/step - loss: 4.8471 - accuracy: 0.0144 - val_loss: 4.7391 - val_accuracy: 0.0184\n",
      "Epoch 100/100\n",
      "704/704 [==============================] - 34s 48ms/step - loss: 4.8492 - accuracy: 0.0149 - val_loss: 4.7587 - val_accuracy: 0.0160\n"
     ]
    }
   ],
   "source": [
    "history_log = train_model(filtered_traces, labels, model, TRAINING_MODEL, EPOCHS, BATCH_SIZE, MODEL_TYPE)\n",
    "np.save(MODEL_FOLDER + \"history_log.npy\", history_log.history)"
   ]
  },
  {
   "cell_type": "markdown",
   "metadata": {
    "tags": []
   },
   "source": [
    "# Performance plots"
   ]
  },
  {
   "cell_type": "code",
   "execution_count": 21,
   "metadata": {
    "tags": []
   },
   "outputs": [
    {
     "data": {
      "image/png": "[encoded data removed]",
      "text/plain": [
       "<Figure size 432x288 with 1 Axes>"
      ]
     },
     "metadata": {
      "needs_background": "light"
     },
     "output_type": "display_data"
    }
   ],
   "source": [
    "plt.plot(history_log.history['val_acc'])\n",
    "plt.plot(history_log.history['acc'])\n",
    "plt.ylabel('accuracy')\n",
    "plt.xlabel('epoch')\n",
    "plt.grid(True)\n",
    "plt.show()"
   ]
  },
  {
   "cell_type": "code",
   "execution_count": 22,
   "metadata": {
    "tags": []
   },
   "outputs": [
    {
     "data": {
      "image/png": "[encoded data removed]",
      "text/plain": [
       "<Figure size 432x288 with 1 Axes>"
      ]
     },
     "metadata": {
      "needs_background": "light"
     },
     "output_type": "display_data"
    }
   ],
   "source": [
    "plt.plot(history_log.history['val_loss'])\n",
    "plt.plot(history_log.history['loss'])\n",
    "plt.ylabel('loss')\n",
    "plt.xlabel('epoch')\n",
    "plt.grid(True)\n",
    "plt.show()"
   ]
  }
 ],
 "metadata": {
  "kernelspec": {
   "display_name": "MEX",
   "language": "python",
   "name": "mex"
  },
  "language_info": {
   "codemirror_mode": {
    "name": "ipython",
    "version": 3
   },
   "file_extension": ".py",
   "mimetype": "text/x-python",
   "name": "python",
   "nbconvert_exporter": "python",
   "pygments_lexer": "ipython3",
   "version": "3.8.11"
  },
  "toc": {
   "base_numbering": 1,
   "nav_menu": {},
   "number_sections": true,
   "sideBar": true,
   "skip_h1_title": false,
   "title_cell": "Table of Contents",
   "title_sidebar": "Contents",
   "toc_cell": false,
   "toc_position": {},
   "toc_section_display": true,
   "toc_window_display": false
  },
  "varInspector": {
   "cols": {
    "lenName": 16,
    "lenType": 16,
    "lenVar": 40
   },
   "kernels_config": {
    "python": {
     "delete_cmd_postfix": "",
     "delete_cmd_prefix": "del ",
     "library": "var_list.py",
     "varRefreshCmd": "print(var_dic_list())"
    },
    "r": {
     "delete_cmd_postfix": ") ",
     "delete_cmd_prefix": "rm(",
     "library": "var_list.r",
     "varRefreshCmd": "cat(var_dic_list()) "
    }
   },
   "types_to_exclude": [
    "module",
    "function",
    "builtin_function_or_method",
    "instance",
    "_Feature"
   ],
   "window_display": false
  }
 },
 "nbformat": 4,
 "nbformat_minor": 4
}
