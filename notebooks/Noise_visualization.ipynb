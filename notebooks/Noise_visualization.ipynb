{
 "cells": [
  {
   "cell_type": "markdown",
   "id": "bda83a0f-6b19-4d17-b001-e9ad7a983141",
   "metadata": {},
   "source": [
    "# Test 1 - Noise analysis"
   ]
  },
  {
   "cell_type": "code",
   "execution_count": 9,
   "id": "90cbd2db-b473-41f8-b16f-e84ed6ff24d9",
   "metadata": {},
   "outputs": [],
   "source": [
    "import scipy.signal as signal\n",
    "import matplotlib.pyplot as plt\n",
    "import numpy as np\n",
    "import pandas as pd\n",
    "import os\n",
    "import seaborn as sns"
   ]
  },
  {
   "cell_type": "code",
   "execution_count": 10,
   "id": "4c099431-2a21-43a3-8ae2-c0f21323b1d2",
   "metadata": {},
   "outputs": [
    {
     "data": {
      "text/html": [
       "<div>\n",
       "<style scoped>\n",
       "    .dataframe tbody tr th:only-of-type {\n",
       "        vertical-align: middle;\n",
       "    }\n",
       "\n",
       "    .dataframe tbody tr th {\n",
       "        vertical-align: top;\n",
       "    }\n",
       "\n",
       "    .dataframe thead th {\n",
       "        text-align: right;\n",
       "    }\n",
       "</style>\n",
       "<table border=\"1\" class=\"dataframe\">\n",
       "  <thead>\n",
       "    <tr style=\"text-align: right;\">\n",
       "      <th></th>\n",
       "      <th>0</th>\n",
       "      <th>1</th>\n",
       "      <th>2</th>\n",
       "      <th>3</th>\n",
       "      <th>4</th>\n",
       "      <th>5</th>\n",
       "      <th>6</th>\n",
       "      <th>7</th>\n",
       "      <th>8</th>\n",
       "      <th>9</th>\n",
       "      <th>...</th>\n",
       "      <th>390</th>\n",
       "      <th>391</th>\n",
       "      <th>392</th>\n",
       "      <th>393</th>\n",
       "      <th>394</th>\n",
       "      <th>395</th>\n",
       "      <th>396</th>\n",
       "      <th>397</th>\n",
       "      <th>398</th>\n",
       "      <th>399</th>\n",
       "    </tr>\n",
       "  </thead>\n",
       "  <tbody>\n",
       "    <tr>\n",
       "      <th>count</th>\n",
       "      <td>5000.000000</td>\n",
       "      <td>5000.000000</td>\n",
       "      <td>5000.000000</td>\n",
       "      <td>5000.000000</td>\n",
       "      <td>5000.000000</td>\n",
       "      <td>5000.000000</td>\n",
       "      <td>5000.000000</td>\n",
       "      <td>5000.000000</td>\n",
       "      <td>5000.000000</td>\n",
       "      <td>5000.000000</td>\n",
       "      <td>...</td>\n",
       "      <td>5000.000000</td>\n",
       "      <td>5000.000000</td>\n",
       "      <td>5000.000000</td>\n",
       "      <td>5000.000000</td>\n",
       "      <td>5000.000000</td>\n",
       "      <td>5000.000000</td>\n",
       "      <td>5000.000000</td>\n",
       "      <td>5000.000000</td>\n",
       "      <td>5000.000000</td>\n",
       "      <td>5000.000000</td>\n",
       "    </tr>\n",
       "    <tr>\n",
       "      <th>mean</th>\n",
       "      <td>0.000699</td>\n",
       "      <td>0.000707</td>\n",
       "      <td>0.000697</td>\n",
       "      <td>0.000728</td>\n",
       "      <td>0.000733</td>\n",
       "      <td>0.000695</td>\n",
       "      <td>0.000689</td>\n",
       "      <td>0.000692</td>\n",
       "      <td>0.000705</td>\n",
       "      <td>0.000696</td>\n",
       "      <td>...</td>\n",
       "      <td>0.000664</td>\n",
       "      <td>0.000690</td>\n",
       "      <td>0.000670</td>\n",
       "      <td>0.000682</td>\n",
       "      <td>0.000678</td>\n",
       "      <td>0.000674</td>\n",
       "      <td>0.000675</td>\n",
       "      <td>0.000667</td>\n",
       "      <td>0.000667</td>\n",
       "      <td>0.000665</td>\n",
       "    </tr>\n",
       "    <tr>\n",
       "      <th>std</th>\n",
       "      <td>0.000358</td>\n",
       "      <td>0.000361</td>\n",
       "      <td>0.000361</td>\n",
       "      <td>0.000372</td>\n",
       "      <td>0.000370</td>\n",
       "      <td>0.000356</td>\n",
       "      <td>0.000353</td>\n",
       "      <td>0.000353</td>\n",
       "      <td>0.000361</td>\n",
       "      <td>0.000358</td>\n",
       "      <td>...</td>\n",
       "      <td>0.000348</td>\n",
       "      <td>0.000355</td>\n",
       "      <td>0.000342</td>\n",
       "      <td>0.000353</td>\n",
       "      <td>0.000354</td>\n",
       "      <td>0.000352</td>\n",
       "      <td>0.000339</td>\n",
       "      <td>0.000348</td>\n",
       "      <td>0.000355</td>\n",
       "      <td>0.000358</td>\n",
       "    </tr>\n",
       "    <tr>\n",
       "      <th>min</th>\n",
       "      <td>0.000000</td>\n",
       "      <td>0.000000</td>\n",
       "      <td>0.000000</td>\n",
       "      <td>0.000000</td>\n",
       "      <td>0.000000</td>\n",
       "      <td>0.000000</td>\n",
       "      <td>0.000000</td>\n",
       "      <td>0.000000</td>\n",
       "      <td>0.000000</td>\n",
       "      <td>0.000000</td>\n",
       "      <td>...</td>\n",
       "      <td>0.000000</td>\n",
       "      <td>0.000000</td>\n",
       "      <td>0.000000</td>\n",
       "      <td>0.000000</td>\n",
       "      <td>0.000000</td>\n",
       "      <td>0.000000</td>\n",
       "      <td>0.000000</td>\n",
       "      <td>0.000000</td>\n",
       "      <td>0.000000</td>\n",
       "      <td>0.000031</td>\n",
       "    </tr>\n",
       "    <tr>\n",
       "      <th>25%</th>\n",
       "      <td>0.000432</td>\n",
       "      <td>0.000437</td>\n",
       "      <td>0.000432</td>\n",
       "      <td>0.000454</td>\n",
       "      <td>0.000458</td>\n",
       "      <td>0.000425</td>\n",
       "      <td>0.000425</td>\n",
       "      <td>0.000432</td>\n",
       "      <td>0.000428</td>\n",
       "      <td>0.000432</td>\n",
       "      <td>...</td>\n",
       "      <td>0.000401</td>\n",
       "      <td>0.000432</td>\n",
       "      <td>0.000411</td>\n",
       "      <td>0.000409</td>\n",
       "      <td>0.000411</td>\n",
       "      <td>0.000415</td>\n",
       "      <td>0.000427</td>\n",
       "      <td>0.000407</td>\n",
       "      <td>0.000407</td>\n",
       "      <td>0.000401</td>\n",
       "    </tr>\n",
       "    <tr>\n",
       "      <th>50%</th>\n",
       "      <td>0.000660</td>\n",
       "      <td>0.000671</td>\n",
       "      <td>0.000655</td>\n",
       "      <td>0.000686</td>\n",
       "      <td>0.000705</td>\n",
       "      <td>0.000657</td>\n",
       "      <td>0.000659</td>\n",
       "      <td>0.000652</td>\n",
       "      <td>0.000672</td>\n",
       "      <td>0.000656</td>\n",
       "      <td>...</td>\n",
       "      <td>0.000629</td>\n",
       "      <td>0.000649</td>\n",
       "      <td>0.000635</td>\n",
       "      <td>0.000644</td>\n",
       "      <td>0.000642</td>\n",
       "      <td>0.000637</td>\n",
       "      <td>0.000642</td>\n",
       "      <td>0.000629</td>\n",
       "      <td>0.000629</td>\n",
       "      <td>0.000618</td>\n",
       "    </tr>\n",
       "    <tr>\n",
       "      <th>75%</th>\n",
       "      <td>0.000928</td>\n",
       "      <td>0.000930</td>\n",
       "      <td>0.000918</td>\n",
       "      <td>0.000965</td>\n",
       "      <td>0.000970</td>\n",
       "      <td>0.000923</td>\n",
       "      <td>0.000910</td>\n",
       "      <td>0.000915</td>\n",
       "      <td>0.000930</td>\n",
       "      <td>0.000916</td>\n",
       "      <td>...</td>\n",
       "      <td>0.000874</td>\n",
       "      <td>0.000918</td>\n",
       "      <td>0.000886</td>\n",
       "      <td>0.000907</td>\n",
       "      <td>0.000902</td>\n",
       "      <td>0.000891</td>\n",
       "      <td>0.000889</td>\n",
       "      <td>0.000886</td>\n",
       "      <td>0.000890</td>\n",
       "      <td>0.000881</td>\n",
       "    </tr>\n",
       "    <tr>\n",
       "      <th>max</th>\n",
       "      <td>0.002497</td>\n",
       "      <td>0.003089</td>\n",
       "      <td>0.003247</td>\n",
       "      <td>0.003412</td>\n",
       "      <td>0.002534</td>\n",
       "      <td>0.002460</td>\n",
       "      <td>0.004364</td>\n",
       "      <td>0.004126</td>\n",
       "      <td>0.003665</td>\n",
       "      <td>0.003559</td>\n",
       "      <td>...</td>\n",
       "      <td>0.004696</td>\n",
       "      <td>0.005650</td>\n",
       "      <td>0.003091</td>\n",
       "      <td>0.002970</td>\n",
       "      <td>0.003095</td>\n",
       "      <td>0.003035</td>\n",
       "      <td>0.003941</td>\n",
       "      <td>0.004573</td>\n",
       "      <td>0.006293</td>\n",
       "      <td>0.007116</td>\n",
       "    </tr>\n",
       "  </tbody>\n",
       "</table>\n",
       "<p>8 rows × 400 columns</p>\n",
       "</div>"
      ],
      "text/plain": [
       "               0            1            2            3            4    \\\n",
       "count  5000.000000  5000.000000  5000.000000  5000.000000  5000.000000   \n",
       "mean      0.000699     0.000707     0.000697     0.000728     0.000733   \n",
       "std       0.000358     0.000361     0.000361     0.000372     0.000370   \n",
       "min       0.000000     0.000000     0.000000     0.000000     0.000000   \n",
       "25%       0.000432     0.000437     0.000432     0.000454     0.000458   \n",
       "50%       0.000660     0.000671     0.000655     0.000686     0.000705   \n",
       "75%       0.000928     0.000930     0.000918     0.000965     0.000970   \n",
       "max       0.002497     0.003089     0.003247     0.003412     0.002534   \n",
       "\n",
       "               5            6            7            8            9    ...  \\\n",
       "count  5000.000000  5000.000000  5000.000000  5000.000000  5000.000000  ...   \n",
       "mean      0.000695     0.000689     0.000692     0.000705     0.000696  ...   \n",
       "std       0.000356     0.000353     0.000353     0.000361     0.000358  ...   \n",
       "min       0.000000     0.000000     0.000000     0.000000     0.000000  ...   \n",
       "25%       0.000425     0.000425     0.000432     0.000428     0.000432  ...   \n",
       "50%       0.000657     0.000659     0.000652     0.000672     0.000656  ...   \n",
       "75%       0.000923     0.000910     0.000915     0.000930     0.000916  ...   \n",
       "max       0.002460     0.004364     0.004126     0.003665     0.003559  ...   \n",
       "\n",
       "               390          391          392          393          394  \\\n",
       "count  5000.000000  5000.000000  5000.000000  5000.000000  5000.000000   \n",
       "mean      0.000664     0.000690     0.000670     0.000682     0.000678   \n",
       "std       0.000348     0.000355     0.000342     0.000353     0.000354   \n",
       "min       0.000000     0.000000     0.000000     0.000000     0.000000   \n",
       "25%       0.000401     0.000432     0.000411     0.000409     0.000411   \n",
       "50%       0.000629     0.000649     0.000635     0.000644     0.000642   \n",
       "75%       0.000874     0.000918     0.000886     0.000907     0.000902   \n",
       "max       0.004696     0.005650     0.003091     0.002970     0.003095   \n",
       "\n",
       "               395          396          397          398          399  \n",
       "count  5000.000000  5000.000000  5000.000000  5000.000000  5000.000000  \n",
       "mean      0.000674     0.000675     0.000667     0.000667     0.000665  \n",
       "std       0.000352     0.000339     0.000348     0.000355     0.000358  \n",
       "min       0.000000     0.000000     0.000000     0.000000     0.000031  \n",
       "25%       0.000415     0.000427     0.000407     0.000407     0.000401  \n",
       "50%       0.000637     0.000642     0.000629     0.000629     0.000618  \n",
       "75%       0.000891     0.000889     0.000886     0.000890     0.000881  \n",
       "max       0.003035     0.003941     0.004573     0.006293     0.007116  \n",
       "\n",
       "[8 rows x 400 columns]"
      ]
     },
     "execution_count": 10,
     "metadata": {},
     "output_type": "execute_result"
    }
   ],
   "source": [
    "# Import traces data\n",
    "project_dir = os.getenv(\"MASTER_THESIS_RESULTS\")\n",
    "noise_dir = os.path.join(project_dir, \"datasets/test_traces/Zedigh_2021/office_corridor/Noise/data\")\n",
    "noise_traces_file_path = os.path.join(noise_dir, \"traces.npy\")\n",
    "noise_traces_npy = np.load(noise_traces_file_path)\n",
    "noise_traces_df = pd.DataFrame(noise_traces_npy)\n",
    "noise_traces_df.describe()"
   ]
  },
  {
   "cell_type": "code",
   "execution_count": 11,
   "id": "a18113ae-5ecb-4cdf-b57c-c0ed51eaf12a",
   "metadata": {},
   "outputs": [
    {
     "data": {
      "image/png": "[encoded data removed]",
      "text/plain": [
       "<Figure size 432x288 with 1 Axes>"
      ]
     },
     "metadata": {
      "needs_background": "light"
     },
     "output_type": "display_data"
    }
   ],
   "source": [
    "%matplotlib inline\n",
    "# Flatten the traces\n",
    "noise_traces_flattened = noise_traces_npy.flatten()\n",
    "df_noise_flatten = pd.DataFrame(noise_traces_flattened)\n",
    "plt.plot(noise_traces_flattened)\n",
    "plt.show()"
   ]
  },
  {
   "cell_type": "code",
   "execution_count": 13,
   "id": "882f4554-e48f-420c-8cec-db3d362da893",
   "metadata": {},
   "outputs": [
    {
     "data": {
      "image/png": "[encoded data removed]",
      "text/plain": [
       "<Figure size 432x288 with 1 Axes>"
      ]
     },
     "metadata": {
      "needs_background": "light"
     },
     "output_type": "display_data"
    }
   ],
   "source": [
    "%matplotlib inline\n",
    "index_1 = int(512400 / 400)\n",
    "index_2 = int(1824800 / 400)\n",
    "plt.plot(noise_traces_npy[index_1])\n",
    "plt.plot(noise_traces_npy[index_2])\n",
    "plt.plot(noise_traces_npy[index_2-20])\n",
    "plt.show()"
   ]
  },
  {
   "cell_type": "code",
   "execution_count": 14,
   "id": "077e59a8-3df7-4b04-90d0-90b7a645f6c1",
   "metadata": {},
   "outputs": [
    {
     "data": {
      "image/png": "[encoded data removed]",
      "text/plain": [
       "<Figure size 432x288 with 1 Axes>"
      ]
     },
     "metadata": {
      "needs_background": "light"
     },
     "output_type": "display_data"
    }
   ],
   "source": [
    "%matplotlib inline\n",
    "traces_fixed = noise_traces_npy.copy()\n",
    "traces_fixed[index_1] = traces_fixed[index_1 -20]\n",
    "traces_fixed[index_2] = traces_fixed[index_2 -20]\n",
    "noise_traces_flattened_fixed = traces_fixed.flatten()\n",
    "#noise_traces_flattened_fixed[index_1] = noise_traces_flattened_fixed[index_1-30]\n",
    "plt.plot(noise_traces_flattened_fixed)\n",
    "plt.show()"
   ]
  },
  {
   "cell_type": "code",
   "execution_count": 18,
   "id": "38a198f0-3f8b-464d-861b-182abab6f6b9",
   "metadata": {},
   "outputs": [
    {
     "data": {
      "image/png": "[encoded data removed]",
      "text/plain": [
       "<Figure size 432x288 with 1 Axes>"
      ]
     },
     "metadata": {
      "needs_background": "light"
     },
     "output_type": "display_data"
    }
   ],
   "source": [
    "%matplotlib inline\n",
    "plt.hist(noise_traces_flattened_fixed*106, bins=50)\n",
    "plt.show()"
   ]
  },
  {
   "cell_type": "code",
   "execution_count": 19,
   "id": "c847e458-cf2c-455a-b46c-4a357b789499",
   "metadata": {},
   "outputs": [
    {
     "data": {
      "image/png": "[encoded data removed]",
      "text/plain": [
       "<Figure size 432x288 with 1 Axes>"
      ]
     },
     "metadata": {
      "needs_background": "light"
     },
     "output_type": "display_data"
    }
   ],
   "source": [
    "%matplotlib inline\n",
    "plt.psd(noise_traces_flattened_fixed*106)\n",
    "plt.show()"
   ]
  },
  {
   "cell_type": "code",
   "execution_count": 20,
   "id": "ddd1185e-345a-42bb-a40c-81eea2029433",
   "metadata": {},
   "outputs": [
    {
     "data": {
      "image/png": "[encoded data removed]",
      "text/plain": [
       "<Figure size 360x288 with 1 Axes>"
      ]
     },
     "metadata": {
      "needs_background": "light"
     },
     "output_type": "display_data"
    }
   ],
   "source": [
    "freqs, times, spectrogram = signal.spectrogram(noise_traces_flattened_fixed*106)\n",
    "\n",
    "plt.figure(figsize=(5,4))\n",
    "plt.imshow(spectrogram, aspect='auto', cmap='hot_r', origin='lower')\n",
    "plt.tight_layout()"
   ]
  },
  {
   "cell_type": "code",
   "execution_count": 21,
   "id": "414caa44-d516-4eec-86c1-d5963cea9b54",
   "metadata": {},
   "outputs": [
    {
     "data": {
      "image/png": "[encoded data removed]",
      "text/plain": [
       "<Figure size 432x288 with 1 Axes>"
      ]
     },
     "metadata": {
      "needs_background": "light"
     },
     "output_type": "display_data"
    }
   ],
   "source": [
    "fs = 5e6\n",
    "f, Pxx_den = signal.welch(noise_traces_flattened_fixed*106, fs, nperseg=400, average=\"mean\")\n",
    "plt.semilogy(f, Pxx_den)\n",
    "plt.xlabel('frequency [Hz]')\n",
    "plt.ylabel('PSD [V**2/Hz]')\n",
    "plt.show()"
   ]
  },
  {
   "cell_type": "code",
   "execution_count": 23,
   "id": "74892ba2-b8cd-4741-ba8e-f2e34758a13f",
   "metadata": {},
   "outputs": [],
   "source": [
    "from scipy.fftpack import fft, irfft, rfft, fftfreq\n",
    "fft_noise_traces = rfft(noise_traces_flattened_fixed)\n",
    "fft_noise_trces_x = fftfreq(len(noise_traces_flattened_fixed))\n",
    "fft_noise_traces_rev = irfft(fft_noise_traces)\n"
   ]
  },
  {
   "cell_type": "code",
   "execution_count": 24,
   "id": "e5acf94d-d96c-4d3f-968c-ea6721b80644",
   "metadata": {},
   "outputs": [
    {
     "data": {
      "image/png": "[encoded data removed]",
      "text/plain": [
       "<Figure size 432x288 with 1 Axes>"
      ]
     },
     "metadata": {
      "needs_background": "light"
     },
     "output_type": "display_data"
    }
   ],
   "source": [
    "plt.plot(fft_noise_traces)\n",
    "plt.show()"
   ]
  },
  {
   "cell_type": "code",
   "execution_count": 28,
   "id": "8914d1d8-e505-4d27-b808-a7912f1794cf",
   "metadata": {},
   "outputs": [
    {
     "data": {
      "image/png": "[encoded data removed]",
      "text/plain": [
       "<Figure size 432x288 with 1 Axes>"
      ]
     },
     "metadata": {
      "needs_background": "light"
     },
     "output_type": "display_data"
    }
   ],
   "source": [
    "rayleigh_noise_set = []\n",
    "for i in range(2000):\n",
    "    rayleigh_noise = np.random.rayleigh(0.058,110)\n",
    "    rayleigh_noise_set.append(rayleigh_noise)\n",
    "\n",
    "rn = np.array(rayleigh_noise_set)\n",
    "plt.hist(noise_traces_flattened_fixed*105, bins=50, density=True, histtype=\"stepfilled\")\n",
    "plt.hist(rn.flatten(), bins=50, density=True, histtype=\"step\", color=\"r\", rwidth=4)\n",
    "plt.show()"
   ]
  },
  {
   "cell_type": "code",
   "execution_count": 38,
   "id": "0ac0bb30-4636-412b-a008-c732845b6bd2",
   "metadata": {},
   "outputs": [
    {
     "data": {
      "text/plain": [
       "0.00068198366"
      ]
     },
     "execution_count": 38,
     "metadata": {},
     "output_type": "execute_result"
    }
   ],
   "source": [
    "MASTERTHESISTOP = os.getenv(\"MASTERTHESISTOP\")\n",
    "PATH = \"datasets/last_round_aes/experiment_axel/1029_trace_noise_office/original_data/\"\n",
    "FILE = \"all__1000.npy\"\n",
    "file_path = os.path.join(MASTERTHESISTOP, PATH, FILE)\n",
    "original_noise_trace = np.load(file_path)\n",
    "original_noise_trace.flatten().mean()"
   ]
  },
  {
   "cell_type": "code",
   "execution_count": 39,
   "id": "7dc47a38-a1e4-4f58-a493-d4dd1ef85108",
   "metadata": {},
   "outputs": [
    {
     "data": {
      "image/png": "[encoded data removed]",
      "text/plain": [
       "<Figure size 432x288 with 1 Axes>"
      ]
     },
     "metadata": {
      "needs_background": "light"
     },
     "output_type": "display_data"
    }
   ],
   "source": [
    "plt.plot(original_noise_trace.flatten())\n",
    "plt.show()"
   ]
  },
  {
   "cell_type": "markdown",
   "id": "c710d87c-e1be-4da2-8ae6-814d1619582c",
   "metadata": {},
   "source": [
    "# Find the scalar for 15m device 6"
   ]
  },
  {
   "cell_type": "code",
   "execution_count": 35,
   "id": "d40b981f-0e29-4b85-a2ea-a8746e0630c4",
   "metadata": {},
   "outputs": [
    {
     "name": "stdout",
     "output_type": "stream",
     "text": [
      "/Users/xeezy/Documents/MASTER-THESIS/datasets/last_round_aes/testing_data/testing_trace_15m/d10_5k/original_data/all__3000.npy\n"
     ]
    },
    {
     "ename": "TypeError",
     "evalue": "cannot perform reduce with flexible type",
     "output_type": "error",
     "traceback": [
      "\u001b[0;31m---------------------------------------------------------------------------\u001b[0m",
      "\u001b[0;31mTypeError\u001b[0m                                 Traceback (most recent call last)",
      "\u001b[0;32m/var/folders/p3/1x7hwgtd79j5x144wbp9v1v00000gn/T/ipykernel_56167/149235942.py\u001b[0m in \u001b[0;36m<module>\u001b[0;34m\u001b[0m\n\u001b[1;32m     11\u001b[0m \u001b[0mtranslations\u001b[0m \u001b[0;34m=\u001b[0m \u001b[0;34m[\u001b[0m\u001b[0;34m]\u001b[0m\u001b[0;34m\u001b[0m\u001b[0;34m\u001b[0m\u001b[0m\n\u001b[1;32m     12\u001b[0m \u001b[0;32mfor\u001b[0m \u001b[0mtrace\u001b[0m \u001b[0;32min\u001b[0m \u001b[0mtraces\u001b[0m\u001b[0;34m:\u001b[0m\u001b[0;34m\u001b[0m\u001b[0;34m\u001b[0m\u001b[0m\n\u001b[0;32m---> 13\u001b[0;31m     \u001b[0mMAX\u001b[0m \u001b[0;34m=\u001b[0m \u001b[0mnp\u001b[0m\u001b[0;34m.\u001b[0m\u001b[0mmax\u001b[0m\u001b[0;34m(\u001b[0m\u001b[0mtrace\u001b[0m\u001b[0;34m)\u001b[0m\u001b[0;34m\u001b[0m\u001b[0;34m\u001b[0m\u001b[0m\n\u001b[0m\u001b[1;32m     14\u001b[0m     \u001b[0mMIN\u001b[0m \u001b[0;34m=\u001b[0m \u001b[0mnp\u001b[0m\u001b[0;34m.\u001b[0m\u001b[0mmin\u001b[0m\u001b[0;34m(\u001b[0m\u001b[0mtrace\u001b[0m\u001b[0;34m)\u001b[0m\u001b[0;34m\u001b[0m\u001b[0;34m\u001b[0m\u001b[0m\n\u001b[1;32m     15\u001b[0m     \u001b[0;31m#nor_one_trace_maxmin = (one_trace-MIN)/(MAX-MIN)\u001b[0m\u001b[0;34m\u001b[0m\u001b[0;34m\u001b[0m\u001b[0;34m\u001b[0m\u001b[0m\n",
      "\u001b[0;32m<__array_function__ internals>\u001b[0m in \u001b[0;36mamax\u001b[0;34m(*args, **kwargs)\u001b[0m\n",
      "\u001b[0;32m/usr/local/Caskroom/miniconda/base/envs/MEX/lib/python3.8/site-packages/numpy/core/fromnumeric.py\u001b[0m in \u001b[0;36mamax\u001b[0;34m(a, axis, out, keepdims, initial, where)\u001b[0m\n\u001b[1;32m   2752\u001b[0m     \u001b[0;36m5\u001b[0m\u001b[0;34m\u001b[0m\u001b[0;34m\u001b[0m\u001b[0m\n\u001b[1;32m   2753\u001b[0m     \"\"\"\n\u001b[0;32m-> 2754\u001b[0;31m     return _wrapreduction(a, np.maximum, 'max', axis, None, out,\n\u001b[0m\u001b[1;32m   2755\u001b[0m                           keepdims=keepdims, initial=initial, where=where)\n\u001b[1;32m   2756\u001b[0m \u001b[0;34m\u001b[0m\u001b[0m\n",
      "\u001b[0;32m/usr/local/Caskroom/miniconda/base/envs/MEX/lib/python3.8/site-packages/numpy/core/fromnumeric.py\u001b[0m in \u001b[0;36m_wrapreduction\u001b[0;34m(obj, ufunc, method, axis, dtype, out, **kwargs)\u001b[0m\n\u001b[1;32m     84\u001b[0m                 \u001b[0;32mreturn\u001b[0m \u001b[0mreduction\u001b[0m\u001b[0;34m(\u001b[0m\u001b[0maxis\u001b[0m\u001b[0;34m=\u001b[0m\u001b[0maxis\u001b[0m\u001b[0;34m,\u001b[0m \u001b[0mout\u001b[0m\u001b[0;34m=\u001b[0m\u001b[0mout\u001b[0m\u001b[0;34m,\u001b[0m \u001b[0;34m**\u001b[0m\u001b[0mpasskwargs\u001b[0m\u001b[0;34m)\u001b[0m\u001b[0;34m\u001b[0m\u001b[0;34m\u001b[0m\u001b[0m\n\u001b[1;32m     85\u001b[0m \u001b[0;34m\u001b[0m\u001b[0m\n\u001b[0;32m---> 86\u001b[0;31m     \u001b[0;32mreturn\u001b[0m \u001b[0mufunc\u001b[0m\u001b[0;34m.\u001b[0m\u001b[0mreduce\u001b[0m\u001b[0;34m(\u001b[0m\u001b[0mobj\u001b[0m\u001b[0;34m,\u001b[0m \u001b[0maxis\u001b[0m\u001b[0;34m,\u001b[0m \u001b[0mdtype\u001b[0m\u001b[0;34m,\u001b[0m \u001b[0mout\u001b[0m\u001b[0;34m,\u001b[0m \u001b[0;34m**\u001b[0m\u001b[0mpasskwargs\u001b[0m\u001b[0;34m)\u001b[0m\u001b[0;34m\u001b[0m\u001b[0;34m\u001b[0m\u001b[0m\n\u001b[0m\u001b[1;32m     87\u001b[0m \u001b[0;34m\u001b[0m\u001b[0m\n\u001b[1;32m     88\u001b[0m \u001b[0;34m\u001b[0m\u001b[0m\n",
      "\u001b[0;31mTypeError\u001b[0m: cannot perform reduce with flexible type"
     ]
    }
   ],
   "source": [
    "DEVICE = 10\n",
    "PATH = f\"datasets/last_round_aes/testing_data/testing_trace_15m/d{DEVICE}_5k/original_data/\"\n",
    "FILE = \"all__3000.npy\"\n",
    "traces = os.path.join(MASTERTHESISTOP, PATH, FILE)\n",
    "print(traces)\n",
    "averaging = 1\n",
    "\n",
    "#trace_select = np.random.sample(len(trace))\n",
    "#print(trace_select)\n",
    "scalars = []\n",
    "translations = []\n",
    "for trace in traces:\n",
    "    MAX = np.max(trace)\n",
    "    MIN = np.min(trace)\n",
    "    #nor_one_trace_maxmin = (one_trace-MIN)/(MAX-MIN)\n",
    "    scalar = 1/(MAX-MIN)\n",
    "    translation = -MIN\n",
    "    scalars.append(scalar)\n",
    "    translations.append(translation)\n",
    "\n",
    "scalars = np.array(scalars)\n",
    "translations = np.array(translations)\n",
    "print(f\"Avg Scalar: {scalars.mean()}, Avg Translation: {translations.mean()}\")\n",
    "#nor_trace_maxmin.append(nor_one_trace_maxmin)\n",
    "print(translations.size)\n",
    "\n",
    "plt.plot(traces[0])\n",
    "plt.show()"
   ]
  },
  {
   "cell_type": "markdown",
   "id": "b65d6029-9dd3-49e8-9691-0136bf69ced3",
   "metadata": {
    "tags": []
   },
   "source": [
    "# GWN 0.04 Hidden layer - Epochs"
   ]
  },
  {
   "cell_type": "code",
   "execution_count": 7,
   "id": "8ef7ba8e-9efa-45e1-9f79-82c3796f64df",
   "metadata": {},
   "outputs": [
    {
     "data": {
      "text/html": [
       "<div>\n",
       "<style scoped>\n",
       "    .dataframe tbody tr th:only-of-type {\n",
       "        vertical-align: middle;\n",
       "    }\n",
       "\n",
       "    .dataframe tbody tr th {\n",
       "        vertical-align: top;\n",
       "    }\n",
       "\n",
       "    .dataframe thead th {\n",
       "        text-align: right;\n",
       "    }\n",
       "</style>\n",
       "<table border=\"1\" class=\"dataframe\">\n",
       "  <thead>\n",
       "    <tr style=\"text-align: right;\">\n",
       "      <th></th>\n",
       "      <th>30</th>\n",
       "      <th>35</th>\n",
       "      <th>40</th>\n",
       "      <th>45</th>\n",
       "      <th>50</th>\n",
       "      <th>55</th>\n",
       "      <th>60</th>\n",
       "      <th>65</th>\n",
       "      <th>70</th>\n",
       "      <th>75</th>\n",
       "      <th>80</th>\n",
       "      <th>85</th>\n",
       "      <th>90</th>\n",
       "      <th>95</th>\n",
       "    </tr>\n",
       "  </thead>\n",
       "  <tbody>\n",
       "    <tr>\n",
       "      <th>count</th>\n",
       "      <td>20.000000</td>\n",
       "      <td>20.000000</td>\n",
       "      <td>20.000000</td>\n",
       "      <td>20.000000</td>\n",
       "      <td>20.000000</td>\n",
       "      <td>20.000000</td>\n",
       "      <td>20.000000</td>\n",
       "      <td>20.00000</td>\n",
       "      <td>20.00000</td>\n",
       "      <td>20.000000</td>\n",
       "      <td>20.000000</td>\n",
       "      <td>20.000000</td>\n",
       "      <td>20.000000</td>\n",
       "      <td>20.000000</td>\n",
       "    </tr>\n",
       "    <tr>\n",
       "      <th>mean</th>\n",
       "      <td>626.800000</td>\n",
       "      <td>509.350000</td>\n",
       "      <td>421.200000</td>\n",
       "      <td>390.750000</td>\n",
       "      <td>363.350000</td>\n",
       "      <td>381.050000</td>\n",
       "      <td>376.800000</td>\n",
       "      <td>376.15000</td>\n",
       "      <td>381.70000</td>\n",
       "      <td>411.500000</td>\n",
       "      <td>422.950000</td>\n",
       "      <td>377.100000</td>\n",
       "      <td>462.700000</td>\n",
       "      <td>482.350000</td>\n",
       "    </tr>\n",
       "    <tr>\n",
       "      <th>std</th>\n",
       "      <td>78.320932</td>\n",
       "      <td>57.509976</td>\n",
       "      <td>51.407147</td>\n",
       "      <td>47.092155</td>\n",
       "      <td>39.196234</td>\n",
       "      <td>52.341465</td>\n",
       "      <td>39.604093</td>\n",
       "      <td>45.77781</td>\n",
       "      <td>52.08202</td>\n",
       "      <td>49.669963</td>\n",
       "      <td>52.066228</td>\n",
       "      <td>48.409329</td>\n",
       "      <td>43.923498</td>\n",
       "      <td>73.288381</td>\n",
       "    </tr>\n",
       "    <tr>\n",
       "      <th>min</th>\n",
       "      <td>490.000000</td>\n",
       "      <td>388.000000</td>\n",
       "      <td>337.000000</td>\n",
       "      <td>332.000000</td>\n",
       "      <td>284.000000</td>\n",
       "      <td>324.000000</td>\n",
       "      <td>306.000000</td>\n",
       "      <td>259.00000</td>\n",
       "      <td>300.00000</td>\n",
       "      <td>299.000000</td>\n",
       "      <td>342.000000</td>\n",
       "      <td>288.000000</td>\n",
       "      <td>385.000000</td>\n",
       "      <td>308.000000</td>\n",
       "    </tr>\n",
       "    <tr>\n",
       "      <th>25%</th>\n",
       "      <td>565.500000</td>\n",
       "      <td>467.000000</td>\n",
       "      <td>386.750000</td>\n",
       "      <td>356.000000</td>\n",
       "      <td>336.000000</td>\n",
       "      <td>340.500000</td>\n",
       "      <td>354.500000</td>\n",
       "      <td>357.50000</td>\n",
       "      <td>335.25000</td>\n",
       "      <td>383.750000</td>\n",
       "      <td>377.750000</td>\n",
       "      <td>341.000000</td>\n",
       "      <td>427.750000</td>\n",
       "      <td>438.000000</td>\n",
       "    </tr>\n",
       "    <tr>\n",
       "      <th>50%</th>\n",
       "      <td>624.500000</td>\n",
       "      <td>528.500000</td>\n",
       "      <td>415.500000</td>\n",
       "      <td>381.500000</td>\n",
       "      <td>372.000000</td>\n",
       "      <td>371.500000</td>\n",
       "      <td>384.500000</td>\n",
       "      <td>381.00000</td>\n",
       "      <td>381.50000</td>\n",
       "      <td>416.500000</td>\n",
       "      <td>425.000000</td>\n",
       "      <td>384.000000</td>\n",
       "      <td>469.000000</td>\n",
       "      <td>494.000000</td>\n",
       "    </tr>\n",
       "    <tr>\n",
       "      <th>75%</th>\n",
       "      <td>673.500000</td>\n",
       "      <td>549.500000</td>\n",
       "      <td>458.250000</td>\n",
       "      <td>416.500000</td>\n",
       "      <td>383.750000</td>\n",
       "      <td>395.500000</td>\n",
       "      <td>395.750000</td>\n",
       "      <td>402.75000</td>\n",
       "      <td>406.25000</td>\n",
       "      <td>435.250000</td>\n",
       "      <td>466.500000</td>\n",
       "      <td>410.500000</td>\n",
       "      <td>492.250000</td>\n",
       "      <td>534.000000</td>\n",
       "    </tr>\n",
       "    <tr>\n",
       "      <th>max</th>\n",
       "      <td>799.000000</td>\n",
       "      <td>585.000000</td>\n",
       "      <td>529.000000</td>\n",
       "      <td>506.000000</td>\n",
       "      <td>428.000000</td>\n",
       "      <td>514.000000</td>\n",
       "      <td>470.000000</td>\n",
       "      <td>466.00000</td>\n",
       "      <td>512.00000</td>\n",
       "      <td>500.000000</td>\n",
       "      <td>512.000000</td>\n",
       "      <td>456.000000</td>\n",
       "      <td>542.000000</td>\n",
       "      <td>634.000000</td>\n",
       "    </tr>\n",
       "  </tbody>\n",
       "</table>\n",
       "</div>"
      ],
      "text/plain": [
       "               30          35          40          45          50          55  \\\n",
       "count   20.000000   20.000000   20.000000   20.000000   20.000000   20.000000   \n",
       "mean   626.800000  509.350000  421.200000  390.750000  363.350000  381.050000   \n",
       "std     78.320932   57.509976   51.407147   47.092155   39.196234   52.341465   \n",
       "min    490.000000  388.000000  337.000000  332.000000  284.000000  324.000000   \n",
       "25%    565.500000  467.000000  386.750000  356.000000  336.000000  340.500000   \n",
       "50%    624.500000  528.500000  415.500000  381.500000  372.000000  371.500000   \n",
       "75%    673.500000  549.500000  458.250000  416.500000  383.750000  395.500000   \n",
       "max    799.000000  585.000000  529.000000  506.000000  428.000000  514.000000   \n",
       "\n",
       "               60         65         70          75          80          85  \\\n",
       "count   20.000000   20.00000   20.00000   20.000000   20.000000   20.000000   \n",
       "mean   376.800000  376.15000  381.70000  411.500000  422.950000  377.100000   \n",
       "std     39.604093   45.77781   52.08202   49.669963   52.066228   48.409329   \n",
       "min    306.000000  259.00000  300.00000  299.000000  342.000000  288.000000   \n",
       "25%    354.500000  357.50000  335.25000  383.750000  377.750000  341.000000   \n",
       "50%    384.500000  381.00000  381.50000  416.500000  425.000000  384.000000   \n",
       "75%    395.750000  402.75000  406.25000  435.250000  466.500000  410.500000   \n",
       "max    470.000000  466.00000  512.00000  500.000000  512.000000  456.000000   \n",
       "\n",
       "               90          95  \n",
       "count   20.000000   20.000000  \n",
       "mean   462.700000  482.350000  \n",
       "std     43.923498   73.288381  \n",
       "min    385.000000  308.000000  \n",
       "25%    427.750000  438.000000  \n",
       "50%    469.000000  494.000000  \n",
       "75%    492.250000  534.000000  \n",
       "max    542.000000  634.000000  "
      ]
     },
     "execution_count": 7,
     "metadata": {},
     "output_type": "execute_result"
    }
   ],
   "source": [
    "USER = os.getenv(\"USER\")\n",
    "PATH = f\"/Users/{USER}/Documents/MASTER-THESIS/datasets/last_round_aes/testing_data/testing_script/epoch_analysis_GWN_0_04_hidden_layer/\"\n",
    "i = 30\n",
    "df = pd.DataFrame()\n",
    "for FILE in os.listdir(PATH):\n",
    "    df[f\"{i}\"] = np.load(PATH + FILE)\n",
    "    i+=5\n",
    "\n",
    "df.describe()"
   ]
  },
  {
   "cell_type": "code",
   "execution_count": 8,
   "id": "b1d7da38-6cea-4af0-8045-84bcd37e3d90",
   "metadata": {},
   "outputs": [
    {
     "data": {
      "image/png": "[encoded data removed]",
      "text/plain": [
       "<Figure size 432x288 with 1 Axes>"
      ]
     },
     "metadata": {
      "needs_background": "light"
     },
     "output_type": "display_data"
    }
   ],
   "source": [
    "ax = sns.barplot(data=df)"
   ]
  },
  {
   "cell_type": "code",
   "execution_count": null,
   "id": "0ce675b3-3237-4e89-8bc8-9fb331ea7619",
   "metadata": {},
   "outputs": [
    {
     "name": "stdout",
     "output_type": "stream",
     "text": [
      "rank_test-device-6-epoch-40-keybyte-0-runs20-axel_cnn_110_rayleigh_noise_0_0138.npy\n",
      "rank_test-device-6-epoch-45-keybyte-0-runs20-axel_cnn_110_rayleigh_noise_0_0138.npy\n",
      "rank_test-device-6-epoch-50-keybyte-0-runs20-axel_cnn_110_rayleigh_noise_0_0138.npy\n",
      "rank_test-device-6-epoch-55-keybyte-0-runs20-axel_cnn_110_rayleigh_noise_0_0138.npy\n",
      "rank_test-device-6-epoch-60-keybyte-0-runs20-axel_cnn_110_rayleigh_noise_0_0138.npy\n",
      "rank_test-device-6-epoch-65-keybyte-0-runs20-axel_cnn_110_rayleigh_noise_0_0138.npy\n",
      "rank_test-device-6-epoch-70-keybyte-0-runs20-axel_cnn_110_rayleigh_noise_0_0138.npy\n",
      "rank_test-device-6-epoch-75-keybyte-0-runs20-axel_cnn_110_rayleigh_noise_0_0138.npy\n",
      "rank_test-device-6-epoch-80-keybyte-0-runs20-axel_cnn_110_rayleigh_noise_0_0138.npy\n",
      "rank_test-device-6-epoch-85-keybyte-0-runs20-axel_cnn_110_rayleigh_noise_0_0138.npy\n",
      "rank_test-device-6-epoch-90-keybyte-0-runs20-axel_cnn_110_rayleigh_noise_0_0138.npy\n",
      "rank_test-device-6-epoch-95-keybyte-0-runs20-axel_cnn_110_rayleigh_noise_0_0138.npy\n"
     ]
    },
    {
     "data": {
      "text/html": [
       "<div>\n",
       "<style scoped>\n",
       "    .dataframe tbody tr th:only-of-type {\n",
       "        vertical-align: middle;\n",
       "    }\n",
       "\n",
       "    .dataframe tbody tr th {\n",
       "        vertical-align: top;\n",
       "    }\n",
       "\n",
       "    .dataframe thead th {\n",
       "        text-align: right;\n",
       "    }\n",
       "</style>\n",
       "<table border=\"1\" class=\"dataframe\">\n",
       "  <thead>\n",
       "    <tr style=\"text-align: right;\">\n",
       "      <th></th>\n",
       "      <th>40</th>\n",
       "      <th>45</th>\n",
       "      <th>50</th>\n",
       "      <th>55</th>\n",
       "      <th>60</th>\n",
       "      <th>65</th>\n",
       "      <th>70</th>\n",
       "      <th>75</th>\n",
       "      <th>80</th>\n",
       "      <th>85</th>\n",
       "      <th>90</th>\n",
       "      <th>95</th>\n",
       "      <th>100</th>\n",
       "    </tr>\n",
       "  </thead>\n",
       "  <tbody>\n",
       "    <tr>\n",
       "      <th>count</th>\n",
       "      <td>20.000000</td>\n",
       "      <td>20.000000</td>\n",
       "      <td>20.000000</td>\n",
       "      <td>20.000000</td>\n",
       "      <td>20.000000</td>\n",
       "      <td>20.00000</td>\n",
       "      <td>20.000000</td>\n",
       "      <td>20.000000</td>\n",
       "      <td>20.000000</td>\n",
       "      <td>20.000000</td>\n",
       "      <td>20.00000</td>\n",
       "      <td>20.000000</td>\n",
       "      <td>20.000000</td>\n",
       "    </tr>\n",
       "    <tr>\n",
       "      <th>mean</th>\n",
       "      <td>454.950000</td>\n",
       "      <td>432.350000</td>\n",
       "      <td>435.600000</td>\n",
       "      <td>460.300000</td>\n",
       "      <td>448.150000</td>\n",
       "      <td>452.55000</td>\n",
       "      <td>459.300000</td>\n",
       "      <td>477.400000</td>\n",
       "      <td>486.750000</td>\n",
       "      <td>474.700000</td>\n",
       "      <td>449.25000</td>\n",
       "      <td>477.500000</td>\n",
       "      <td>478.300000</td>\n",
       "    </tr>\n",
       "    <tr>\n",
       "      <th>std</th>\n",
       "      <td>52.949305</td>\n",
       "      <td>65.018439</td>\n",
       "      <td>57.326764</td>\n",
       "      <td>54.782921</td>\n",
       "      <td>62.566407</td>\n",
       "      <td>67.65351</td>\n",
       "      <td>49.806045</td>\n",
       "      <td>69.131758</td>\n",
       "      <td>63.661006</td>\n",
       "      <td>44.885937</td>\n",
       "      <td>50.64414</td>\n",
       "      <td>67.244644</td>\n",
       "      <td>59.913183</td>\n",
       "    </tr>\n",
       "    <tr>\n",
       "      <th>min</th>\n",
       "      <td>355.000000</td>\n",
       "      <td>327.000000</td>\n",
       "      <td>347.000000</td>\n",
       "      <td>368.000000</td>\n",
       "      <td>359.000000</td>\n",
       "      <td>340.00000</td>\n",
       "      <td>355.000000</td>\n",
       "      <td>378.000000</td>\n",
       "      <td>405.000000</td>\n",
       "      <td>402.000000</td>\n",
       "      <td>394.00000</td>\n",
       "      <td>348.000000</td>\n",
       "      <td>359.000000</td>\n",
       "    </tr>\n",
       "    <tr>\n",
       "      <th>25%</th>\n",
       "      <td>418.500000</td>\n",
       "      <td>383.750000</td>\n",
       "      <td>389.000000</td>\n",
       "      <td>428.000000</td>\n",
       "      <td>401.250000</td>\n",
       "      <td>391.00000</td>\n",
       "      <td>434.750000</td>\n",
       "      <td>430.500000</td>\n",
       "      <td>426.250000</td>\n",
       "      <td>447.000000</td>\n",
       "      <td>413.00000</td>\n",
       "      <td>442.500000</td>\n",
       "      <td>432.250000</td>\n",
       "    </tr>\n",
       "    <tr>\n",
       "      <th>50%</th>\n",
       "      <td>448.500000</td>\n",
       "      <td>436.500000</td>\n",
       "      <td>456.500000</td>\n",
       "      <td>458.500000</td>\n",
       "      <td>438.500000</td>\n",
       "      <td>473.50000</td>\n",
       "      <td>453.000000</td>\n",
       "      <td>475.000000</td>\n",
       "      <td>491.500000</td>\n",
       "      <td>479.000000</td>\n",
       "      <td>433.00000</td>\n",
       "      <td>469.000000</td>\n",
       "      <td>486.000000</td>\n",
       "    </tr>\n",
       "    <tr>\n",
       "      <th>75%</th>\n",
       "      <td>494.000000</td>\n",
       "      <td>477.500000</td>\n",
       "      <td>478.500000</td>\n",
       "      <td>492.500000</td>\n",
       "      <td>499.250000</td>\n",
       "      <td>501.75000</td>\n",
       "      <td>490.500000</td>\n",
       "      <td>517.000000</td>\n",
       "      <td>536.500000</td>\n",
       "      <td>496.500000</td>\n",
       "      <td>469.25000</td>\n",
       "      <td>507.750000</td>\n",
       "      <td>510.750000</td>\n",
       "    </tr>\n",
       "    <tr>\n",
       "      <th>max</th>\n",
       "      <td>553.000000</td>\n",
       "      <td>543.000000</td>\n",
       "      <td>520.000000</td>\n",
       "      <td>590.000000</td>\n",
       "      <td>564.000000</td>\n",
       "      <td>583.00000</td>\n",
       "      <td>563.000000</td>\n",
       "      <td>654.000000</td>\n",
       "      <td>627.000000</td>\n",
       "      <td>579.000000</td>\n",
       "      <td>583.00000</td>\n",
       "      <td>609.000000</td>\n",
       "      <td>602.000000</td>\n",
       "    </tr>\n",
       "  </tbody>\n",
       "</table>\n",
       "</div>"
      ],
      "text/plain": [
       "               40          45          50          55          60         65  \\\n",
       "count   20.000000   20.000000   20.000000   20.000000   20.000000   20.00000   \n",
       "mean   454.950000  432.350000  435.600000  460.300000  448.150000  452.55000   \n",
       "std     52.949305   65.018439   57.326764   54.782921   62.566407   67.65351   \n",
       "min    355.000000  327.000000  347.000000  368.000000  359.000000  340.00000   \n",
       "25%    418.500000  383.750000  389.000000  428.000000  401.250000  391.00000   \n",
       "50%    448.500000  436.500000  456.500000  458.500000  438.500000  473.50000   \n",
       "75%    494.000000  477.500000  478.500000  492.500000  499.250000  501.75000   \n",
       "max    553.000000  543.000000  520.000000  590.000000  564.000000  583.00000   \n",
       "\n",
       "               70          75          80          85         90          95  \\\n",
       "count   20.000000   20.000000   20.000000   20.000000   20.00000   20.000000   \n",
       "mean   459.300000  477.400000  486.750000  474.700000  449.25000  477.500000   \n",
       "std     49.806045   69.131758   63.661006   44.885937   50.64414   67.244644   \n",
       "min    355.000000  378.000000  405.000000  402.000000  394.00000  348.000000   \n",
       "25%    434.750000  430.500000  426.250000  447.000000  413.00000  442.500000   \n",
       "50%    453.000000  475.000000  491.500000  479.000000  433.00000  469.000000   \n",
       "75%    490.500000  517.000000  536.500000  496.500000  469.25000  507.750000   \n",
       "max    563.000000  654.000000  627.000000  579.000000  583.00000  609.000000   \n",
       "\n",
       "              100  \n",
       "count   20.000000  \n",
       "mean   478.300000  \n",
       "std     59.913183  \n",
       "min    359.000000  \n",
       "25%    432.250000  \n",
       "50%    486.000000  \n",
       "75%    510.750000  \n",
       "max    602.000000  "
      ]
     },
     "execution_count": 17,
     "metadata": {},
     "output_type": "execute_result"
    }
   ],
   "source": [
    "USER = os.getenv(\"USER\")\n",
    "PATH = f\"/Users/{USER}/Documents/MASTER-THESIS/datasets/last_round_aes/testing_data/testing_script/epoch_analysis_rayleigh_noise_0138/\"\n",
    "i = 40\n",
    "df = pd.DataFrame()\n",
    "FILES = os.listdir(PATH)\n",
    "for FILE in FILES[1:]:\n",
    "    print(FILE)\n",
    "    df[f\"{i}\"] = np.load(PATH + FILE)\n",
    "    i+=5\n",
    "\n",
    "df[f\"{100}\"] = np.load(PATH + FILES[0])\n",
    "df.describe()"
   ]
  },
  {
   "cell_type": "code",
   "execution_count": 18,
   "id": "64f38a63-d917-4434-9ca6-a687e39388d8",
   "metadata": {},
   "outputs": [
    {
     "data": {
      "image/png": "[encoded data removed]",
      "text/plain": [
       "<Figure size 432x288 with 1 Axes>"
      ]
     },
     "metadata": {
      "needs_background": "light"
     },
     "output_type": "display_data"
    }
   ],
   "source": [
    "ax = sns.barplot(data=df)"
   ]
  },
  {
   "cell_type": "markdown",
   "id": "3b48af7f-e7e7-4c3e-89c5-fd1a16c27ad0",
   "metadata": {},
   "source": [
    "# Collected noise x50 - Epoch"
   ]
  },
  {
   "cell_type": "code",
   "execution_count": 21,
   "id": "016abd9a-7649-404a-861a-ff92b8e21d9a",
   "metadata": {},
   "outputs": [
    {
     "name": "stdout",
     "output_type": "stream",
     "text": [
      "rank_test-device-6-epoch-50-keybyte-0-runs20-axel_cnn_110_model_collected_noise_50_scaling_no_mean_adjustment.npy\n",
      "rank_test-device-6-epoch-55-keybyte-0-runs20-axel_cnn_110_model_collected_noise_50_scaling_no_mean_adjustment.npy\n",
      "rank_test-device-6-epoch-60-keybyte-0-runs20-axel_cnn_110_model_collected_noise_50_scaling_no_mean_adjustment.npy\n",
      "rank_test-device-6-epoch-65-keybyte-0-runs20-axel_cnn_110_model_collected_noise_50_scaling_no_mean_adjustment.npy\n",
      "rank_test-device-6-epoch-70-keybyte-0-runs20-axel_cnn_110_model_collected_noise_50_scaling_no_mean_adjustment.npy\n",
      "rank_test-device-6-epoch-75-keybyte-0-runs20-axel_cnn_110_model_collected_noise_50_scaling_no_mean_adjustment.npy\n",
      "rank_test-device-6-epoch-80-keybyte-0-runs20-axel_cnn_110_model_collected_noise_50_scaling_no_mean_adjustment.npy\n",
      "rank_test-device-6-epoch-85-keybyte-0-runs20-axel_cnn_110_model_collected_noise_50_scaling_no_mean_adjustment.npy\n",
      "rank_test-device-6-epoch-90-keybyte-0-runs20-axel_cnn_110_model_collected_noise_50_scaling_no_mean_adjustment.npy\n",
      "rank_test-device-6-epoch-95-keybyte-0-runs20-axel_cnn_110_model_collected_noise_50_scaling_no_mean_adjustment.npy\n"
     ]
    },
    {
     "data": {
      "text/html": [
       "<div>\n",
       "<style scoped>\n",
       "    .dataframe tbody tr th:only-of-type {\n",
       "        vertical-align: middle;\n",
       "    }\n",
       "\n",
       "    .dataframe tbody tr th {\n",
       "        vertical-align: top;\n",
       "    }\n",
       "\n",
       "    .dataframe thead th {\n",
       "        text-align: right;\n",
       "    }\n",
       "</style>\n",
       "<table border=\"1\" class=\"dataframe\">\n",
       "  <thead>\n",
       "    <tr style=\"text-align: right;\">\n",
       "      <th></th>\n",
       "      <th>50</th>\n",
       "      <th>55</th>\n",
       "      <th>60</th>\n",
       "      <th>65</th>\n",
       "      <th>70</th>\n",
       "      <th>75</th>\n",
       "      <th>80</th>\n",
       "      <th>85</th>\n",
       "      <th>90</th>\n",
       "      <th>95</th>\n",
       "      <th>100</th>\n",
       "    </tr>\n",
       "  </thead>\n",
       "  <tbody>\n",
       "    <tr>\n",
       "      <th>count</th>\n",
       "      <td>20.000000</td>\n",
       "      <td>20.000000</td>\n",
       "      <td>20.000000</td>\n",
       "      <td>20.000000</td>\n",
       "      <td>20.000000</td>\n",
       "      <td>20.000000</td>\n",
       "      <td>20.000000</td>\n",
       "      <td>20.000000</td>\n",
       "      <td>20.000000</td>\n",
       "      <td>20.000000</td>\n",
       "      <td>20.000000</td>\n",
       "    </tr>\n",
       "    <tr>\n",
       "      <th>mean</th>\n",
       "      <td>421.500000</td>\n",
       "      <td>435.250000</td>\n",
       "      <td>433.950000</td>\n",
       "      <td>401.600000</td>\n",
       "      <td>431.750000</td>\n",
       "      <td>405.400000</td>\n",
       "      <td>407.600000</td>\n",
       "      <td>424.400000</td>\n",
       "      <td>413.100000</td>\n",
       "      <td>415.450000</td>\n",
       "      <td>432.200000</td>\n",
       "    </tr>\n",
       "    <tr>\n",
       "      <th>std</th>\n",
       "      <td>43.543686</td>\n",
       "      <td>48.158592</td>\n",
       "      <td>54.022875</td>\n",
       "      <td>75.394681</td>\n",
       "      <td>57.817203</td>\n",
       "      <td>49.715401</td>\n",
       "      <td>67.932939</td>\n",
       "      <td>47.266768</td>\n",
       "      <td>57.822687</td>\n",
       "      <td>58.732646</td>\n",
       "      <td>50.399039</td>\n",
       "    </tr>\n",
       "    <tr>\n",
       "      <th>min</th>\n",
       "      <td>363.000000</td>\n",
       "      <td>330.000000</td>\n",
       "      <td>322.000000</td>\n",
       "      <td>315.000000</td>\n",
       "      <td>353.000000</td>\n",
       "      <td>317.000000</td>\n",
       "      <td>288.000000</td>\n",
       "      <td>335.000000</td>\n",
       "      <td>326.000000</td>\n",
       "      <td>338.000000</td>\n",
       "      <td>342.000000</td>\n",
       "    </tr>\n",
       "    <tr>\n",
       "      <th>25%</th>\n",
       "      <td>390.000000</td>\n",
       "      <td>407.000000</td>\n",
       "      <td>411.000000</td>\n",
       "      <td>346.750000</td>\n",
       "      <td>399.250000</td>\n",
       "      <td>382.000000</td>\n",
       "      <td>356.750000</td>\n",
       "      <td>389.000000</td>\n",
       "      <td>367.750000</td>\n",
       "      <td>379.500000</td>\n",
       "      <td>410.750000</td>\n",
       "    </tr>\n",
       "    <tr>\n",
       "      <th>50%</th>\n",
       "      <td>414.000000</td>\n",
       "      <td>432.500000</td>\n",
       "      <td>417.000000</td>\n",
       "      <td>377.500000</td>\n",
       "      <td>427.500000</td>\n",
       "      <td>406.500000</td>\n",
       "      <td>408.000000</td>\n",
       "      <td>423.000000</td>\n",
       "      <td>417.000000</td>\n",
       "      <td>404.500000</td>\n",
       "      <td>424.000000</td>\n",
       "    </tr>\n",
       "    <tr>\n",
       "      <th>75%</th>\n",
       "      <td>449.000000</td>\n",
       "      <td>469.250000</td>\n",
       "      <td>460.000000</td>\n",
       "      <td>438.000000</td>\n",
       "      <td>448.750000</td>\n",
       "      <td>449.000000</td>\n",
       "      <td>462.750000</td>\n",
       "      <td>454.500000</td>\n",
       "      <td>467.250000</td>\n",
       "      <td>446.750000</td>\n",
       "      <td>462.500000</td>\n",
       "    </tr>\n",
       "    <tr>\n",
       "      <th>max</th>\n",
       "      <td>516.000000</td>\n",
       "      <td>514.000000</td>\n",
       "      <td>552.000000</td>\n",
       "      <td>616.000000</td>\n",
       "      <td>602.000000</td>\n",
       "      <td>480.000000</td>\n",
       "      <td>523.000000</td>\n",
       "      <td>510.000000</td>\n",
       "      <td>502.000000</td>\n",
       "      <td>586.000000</td>\n",
       "      <td>545.000000</td>\n",
       "    </tr>\n",
       "  </tbody>\n",
       "</table>\n",
       "</div>"
      ],
      "text/plain": [
       "               50          55          60          65          70          75  \\\n",
       "count   20.000000   20.000000   20.000000   20.000000   20.000000   20.000000   \n",
       "mean   421.500000  435.250000  433.950000  401.600000  431.750000  405.400000   \n",
       "std     43.543686   48.158592   54.022875   75.394681   57.817203   49.715401   \n",
       "min    363.000000  330.000000  322.000000  315.000000  353.000000  317.000000   \n",
       "25%    390.000000  407.000000  411.000000  346.750000  399.250000  382.000000   \n",
       "50%    414.000000  432.500000  417.000000  377.500000  427.500000  406.500000   \n",
       "75%    449.000000  469.250000  460.000000  438.000000  448.750000  449.000000   \n",
       "max    516.000000  514.000000  552.000000  616.000000  602.000000  480.000000   \n",
       "\n",
       "               80          85          90          95         100  \n",
       "count   20.000000   20.000000   20.000000   20.000000   20.000000  \n",
       "mean   407.600000  424.400000  413.100000  415.450000  432.200000  \n",
       "std     67.932939   47.266768   57.822687   58.732646   50.399039  \n",
       "min    288.000000  335.000000  326.000000  338.000000  342.000000  \n",
       "25%    356.750000  389.000000  367.750000  379.500000  410.750000  \n",
       "50%    408.000000  423.000000  417.000000  404.500000  424.000000  \n",
       "75%    462.750000  454.500000  467.250000  446.750000  462.500000  \n",
       "max    523.000000  510.000000  502.000000  586.000000  545.000000  "
      ]
     },
     "execution_count": 21,
     "metadata": {},
     "output_type": "execute_result"
    }
   ],
   "source": [
    "USER = os.getenv(\"USER\")\n",
    "PATH = f\"/Users/{USER}/Documents/MASTER-THESIS/datasets/last_round_aes/testing_data/testing_script/epoch_analysis_collected_50/\"\n",
    "i = 50\n",
    "df = pd.DataFrame()\n",
    "FILES = os.listdir(PATH)\n",
    "for FILE in FILES[1:]:\n",
    "    print(FILE)\n",
    "    df[f\"{i}\"] = np.load(PATH + FILE)\n",
    "    i+=5\n",
    "\n",
    "df[f\"{100}\"] = np.load(PATH + FILES[0])\n",
    "df.describe()"
   ]
  },
  {
   "cell_type": "code",
   "execution_count": 22,
   "id": "9891ec7a-a7fa-4e35-a621-5213c6e5d726",
   "metadata": {},
   "outputs": [
    {
     "data": {
      "image/png": "[encoded data removed]",
      "text/plain": [
       "<Figure size 432x288 with 1 Axes>"
      ]
     },
     "metadata": {
      "needs_background": "light"
     },
     "output_type": "display_data"
    }
   ],
   "source": [
    "ax = sns.barplot(data=df)"
   ]
  },
  {
   "cell_type": "code",
   "execution_count": null,
   "id": "da5b7759-3a19-406a-84ef-184621d8f57e",
   "metadata": {},
   "outputs": [],
   "source": []
  }
 ],
 "metadata": {
  "kernelspec": {
   "display_name": "MEX",
   "language": "python",
   "name": "mex"
  },
  "language_info": {
   "codemirror_mode": {
    "name": "ipython",
    "version": 3
   },
   "file_extension": ".py",
   "mimetype": "text/x-python",
   "name": "python",
   "nbconvert_exporter": "python",
   "pygments_lexer": "ipython3",
   "version": "3.8.11"
  }
 },
 "nbformat": 4,
 "nbformat_minor": 5
}
